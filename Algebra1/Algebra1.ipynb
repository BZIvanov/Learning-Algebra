{
 "cells": [
  {
   "cell_type": "markdown",
   "id": "d853d70c",
   "metadata": {},
   "source": [
    "# Variables and Algebraic expressions\n",
    "\n",
    "A variable is a slot for a value which can vary."
   ]
  },
  {
   "cell_type": "markdown",
   "id": "04e75155",
   "metadata": {},
   "source": [
    "$$ x=3 $$\n",
    "$$ 3x=9 $$"
   ]
  },
  {
   "cell_type": "markdown",
   "id": "bf938b39",
   "metadata": {},
   "source": [
    "## Examples\n",
    "\n",
    "- example 1\n",
    "\n",
    "$$ 3(x-4)=3x-12 $$\n",
    "\n",
    "- example 2\n",
    "\n",
    "$$ 4(x-7)+2=4x-28+2=4x-26 $$\n",
    "\n",
    "- example 3\n",
    "\n",
    "$$ -2(4x-7)+4(x-3)=-8x+14+4x-12=-4x+2 $$"
   ]
  },
  {
   "cell_type": "markdown",
   "id": "b93c8812",
   "metadata": {},
   "source": [
    "# Equations"
   ]
  },
  {
   "cell_type": "markdown",
   "id": "886c3d67",
   "metadata": {},
   "source": [
    "## Examples\n",
    "\n",
    "- example 1\n",
    "\n",
    "$$ 2x=8 $$\n",
    "\n",
    "$$ 2*4=8 $$\n",
    "\n",
    "- example 2\n",
    "\n",
    "$$ \\frac{x}{6}=2 $$\n",
    "\n",
    "$$ \\frac{12}{6}=2 $$\n",
    "\n",
    "- example 3\n",
    "\n",
    "$$ n^2=8n $$\n",
    "\n",
    "$$ (8)^2=8(8) $$"
   ]
  }
 ],
 "metadata": {
  "kernelspec": {
   "display_name": "Python 3 (ipykernel)",
   "language": "python",
   "name": "python3"
  },
  "language_info": {
   "codemirror_mode": {
    "name": "ipython",
    "version": 3
   },
   "file_extension": ".py",
   "mimetype": "text/x-python",
   "name": "python",
   "nbconvert_exporter": "python",
   "pygments_lexer": "ipython3",
   "version": "3.10.9"
  }
 },
 "nbformat": 4,
 "nbformat_minor": 5
}
