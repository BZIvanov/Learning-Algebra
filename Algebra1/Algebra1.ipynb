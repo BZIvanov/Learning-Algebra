{
 "cells": [
  {
   "cell_type": "markdown",
   "id": "1353049d",
   "metadata": {},
   "source": [
    "# Variables and Algebraic expressions\n",
    "\n",
    "A variable is a slot for a value which can vary."
   ]
  },
  {
   "cell_type": "markdown",
   "id": "66ef2f70",
   "metadata": {},
   "source": [
    "$$ x=3 $$\n",
    "$$ 3x=9 $$"
   ]
  },
  {
   "cell_type": "markdown",
   "id": "eeff723f",
   "metadata": {},
   "source": [
    "## Examples\n",
    "\n",
    "- example 1\n",
    "\n",
    "$$ 3(x-4)=3x-12 $$\n",
    "\n",
    "- example 2\n",
    "\n",
    "$$ 4(x-7)+2=4x-28+2=4x-26 $$\n",
    "\n",
    "- example 3\n",
    "\n",
    "$$ -2(4x-7)+4(x-3)=-8x+14+4x-12=-4x+2 $$"
   ]
  },
  {
   "cell_type": "markdown",
   "id": "ed1cb7b4",
   "metadata": {},
   "source": [
    "# Equations"
   ]
  },
  {
   "cell_type": "markdown",
   "id": "ad705389",
   "metadata": {},
   "source": [
    "## Examples\n",
    "\n",
    "- example 1\n",
    "\n",
    "$$ 2x=8 $$\n",
    "\n",
    "$$ 2*4=8 $$\n",
    "\n",
    "- example 2\n",
    "\n",
    "$$ \\frac{x}{6}=2 $$\n",
    "\n",
    "$$ \\frac{12}{6}=2 $$\n",
    "\n",
    "- example 3\n",
    "\n",
    "$$ n^2=8n $$\n",
    "\n",
    "$$ (8)^2=8(8) $$"
   ]
  },
  {
   "cell_type": "markdown",
   "id": "5b3da0f5",
   "metadata": {},
   "source": [
    "# Addition Property of Equality\n",
    "\n",
    "We can add the same number to both sides of an equation without changing the solution."
   ]
  },
  {
   "cell_type": "markdown",
   "id": "6395f694",
   "metadata": {},
   "source": [
    "## Examples\n",
    "\n",
    "- example 1\n",
    "\n",
    "$$ x+4=10 $$\n",
    "\n",
    "$$ x+4+(-4)=10+(-4) $$\n",
    "\n",
    "$$ x=6 $$"
   ]
  },
  {
   "cell_type": "markdown",
   "id": "c5998a6b",
   "metadata": {},
   "source": [
    "# Multiplication Property of Equality\n",
    "\n",
    "We can multiply or divide both sides of an equation by the same non-zero number and maintain the same solution."
   ]
  },
  {
   "cell_type": "markdown",
   "id": "a21eacc8",
   "metadata": {},
   "source": [
    "## Examples\n",
    "\n",
    "- example 1\n",
    "\n",
    "$$ 3x=9 $$\n",
    "\n",
    "$$ \\frac{3x}{3}=\\frac{9}{3} $$\n",
    "\n",
    "$$ 1x=3 $$\n",
    "\n",
    "$$ x=3 $$\n",
    "\n",
    "- example 2\n",
    "\n",
    "$$ \\frac{2}{3}x=10 $$\n",
    "\n",
    "$$ \\frac{3}{2}*\\frac{2}{3}x=10*\\frac{3}{2} $$\n",
    "\n",
    "$$ 1x=5*\\frac{3}{1} $$\n",
    "\n",
    "$$ x=15 $$\n",
    "\n",
    "- example 3\n",
    "\n",
    "$$ \\frac{z}{8}=-6 $$\n",
    "\n",
    "$$ \\frac{8}{1}*\\frac{1}{8}*z=-6*\\frac{8}{1} $$\n",
    "\n",
    "$$ z=-48 $$"
   ]
  },
  {
   "cell_type": "markdown",
   "id": "390f91a9",
   "metadata": {},
   "source": [
    "# Linear equations in one variable"
   ]
  },
  {
   "cell_type": "markdown",
   "id": "89362f73",
   "metadata": {},
   "source": [
    "## Examples\n",
    "\n",
    "- example 1\n",
    "\n",
    "$$ -4-4(5+5x)=-64 $$\n",
    "\n",
    "$$ -4-20-20x=-64 $$\n",
    "\n",
    "$$ -24-20x=-64 $$\n",
    "\n",
    "$$ 24-24-20x=-64+24 $$\n",
    "\n",
    "$$ -20x=-40 $$\n",
    "\n",
    "$$ \\frac{-20x}{-20}=\\frac{-40}{-20} $$\n",
    "\n",
    "$$ x=2 $$"
   ]
  },
  {
   "cell_type": "markdown",
   "id": "523eb7f9",
   "metadata": {},
   "source": [
    "# Linear equations with fractions or decimals\n",
    "\n",
    "Multiply both sides of the equation by the LCD of all fractions in the equation."
   ]
  },
  {
   "cell_type": "markdown",
   "id": "0086118e",
   "metadata": {},
   "source": [
    "## Examples\n",
    "\n",
    "- example 1\n",
    "\n",
    "$$ \\frac{7x}{4}+\\frac{1x}{2}=\\frac{63}{20} $$\n",
    "\n",
    "$$ \\text{LCD->LCM(4,2,20)=2*2*5=20} $$\n",
    "$$ \\text{4=2*2} $$\n",
    "$$ \\text{2=2} $$\n",
    "$$ \\text{20=2*2*5} $$\n",
    "\n",
    "$$ 20\\left[\\frac{7x}{4}+\\frac{1x}{2}\\right]=20*\\frac{63}{20} $$\n",
    "\n",
    "$$ 20*\\frac{7x}{4}+20*\\frac{1x}{2}=63 $$\n",
    "\n",
    "$$ 5*7x+10*1x=63 $$\n",
    "\n",
    "$$ 35x+10x=63 $$\n",
    "\n",
    "$$ 45x=63 $$\n",
    "\n",
    "$$ \\frac{45x}{45}=\\frac{63}{45} $$\n",
    "\n",
    "$$ x=\\frac{7}{5} $$\n",
    "\n",
    "- example 2\n",
    "\n",
    "$$ 17.8321+2.589y=0.8(y+4.37)+4.6y $$\n",
    "\n",
    "$$ 17.8321+2.589y=0.8y+3.496+4.6y $$\n",
    "\n",
    "$$ 10000(17.8321+2.589y)=10000(0.8y+3.496+4.6y) $$\n",
    "\n",
    "$$ 178321+25890y=8000y+34960+46000y $$\n",
    "\n",
    "$$ 178321+25890y=54000y+34960 $$\n",
    "\n",
    "$$ 178321+25890y-54000y=54000y+34960-54000y $$\n",
    "\n",
    "$$ 178321-28110y=34960 $$\n",
    "\n",
    "$$ 178321-28110y-178321=34960-178321 $$\n",
    "\n",
    "$$ -28110y=-143361 $$\n",
    "\n",
    "$$ \\frac{-28110y}{-28110}=\\frac{-143361}{-28110} $$\n",
    "\n",
    "$$ y=5.1 $$"
   ]
  },
  {
   "cell_type": "markdown",
   "id": "7c01fb26",
   "metadata": {},
   "source": [
    "# Linear equations with no solution or an infinite number of solutions\n",
    "\n",
    "## Infinite solutions\n",
    "\n",
    "This is happening, because on both sides we have the same thing.\n",
    "\n",
    "$$ 3x-12=3(x-4) $$\n",
    "\n",
    "$$ \\text{test with -8} $$\n",
    "\n",
    "$$ 3(-8)-12=3(-8-4) $$\n",
    "\n",
    "$$ -36=-36 $$\n",
    "\n",
    "$$ \\text{test with 4} $$\n",
    "\n",
    "$$ 3*4-12=3(4-4) $$\n",
    "\n",
    "$$ 0=0 $$\n",
    "\n",
    "## No solution (contradiction)\n",
    "\n",
    "$$ -2=2-6(n-n) $$\n",
    "\n",
    "$$ -2=2-6(3-3) $$\n",
    "\n",
    "$$ -2=2-18+18 $$\n",
    "\n",
    "$$ -2\\ne2 $$"
   ]
  },
  {
   "cell_type": "markdown",
   "id": "d94ff02a",
   "metadata": {},
   "source": [
    "# Proportion equations\n",
    "\n",
    "A proportion states that two ratios are equal.\n",
    "\n",
    "$$ \\frac{1}{4}=\\frac{2}{8} $$"
   ]
  },
  {
   "cell_type": "markdown",
   "id": "e75cb0dd",
   "metadata": {},
   "source": [
    "## Examples\n",
    "\n",
    "- example 1\n",
    "\n",
    "$$ \\frac{4}{7}=\\frac{2}{x} $$\n",
    "\n",
    "$$ 7*2=4x $$\n",
    "\n",
    "$$ \\frac{14}{4}=\\frac{4x}{4} $$\n",
    "\n",
    "$$ \\frac{7}{2}=x $$\n",
    "\n",
    "- example 2\n",
    "\n",
    "$$ \\frac{5}{3}=\\frac{x-2}{x-7} $$\n",
    "\n",
    "$$ 3(x-2)=5(x-7) $$\n",
    "\n",
    "$$ 3x-6=5x-35 $$\n",
    "\n",
    "$$ 3x-6-5x=5x-35-5x $$\n",
    "\n",
    "$$ -2x-6=-35 $$\n",
    "\n",
    "$$ -2x-6+6=-35+6 $$\n",
    "\n",
    "$$ -2x=-29 $$\n",
    "\n",
    "$$ \\frac{-2x}{-2}=\\frac{-29}{-2} $$\n",
    "\n",
    "$$ x=\\frac{29}{2} $$"
   ]
  },
  {
   "cell_type": "markdown",
   "id": "9af806cf",
   "metadata": {},
   "source": [
    "# Tasks"
   ]
  },
  {
   "cell_type": "markdown",
   "id": "9932e2be",
   "metadata": {},
   "source": [
    "## Task 1\n",
    "\n",
    "Team 1 won 8 more games than Team 2. Their combined wins were 32. Find the number of games won by each team.\n",
    "\n",
    "$$ \\text{x = wins for Team 2} $$\n",
    "$$ \\text{x + 8 = wins for Team 1} $$\n",
    "\n",
    "$$ x+(x+8)=32 $$\n",
    "\n",
    "$$ 2x+8=32 $$\n",
    "\n",
    "$$ 2x+8-8=32-8 $$\n",
    "\n",
    "$$ 2x=24 $$\n",
    "\n",
    "$$ \\frac{2x}{2}=\\frac{24}{2} $$\n",
    "\n",
    "$$ x=12 $$\n",
    "\n",
    "$$ \\text{Team 2 won 12 games} $$\n",
    "\n",
    "$$ \\text{Team 1 won 12+8=20 games} $$"
   ]
  },
  {
   "cell_type": "markdown",
   "id": "457ce10f",
   "metadata": {},
   "source": [
    "## Task 2\n",
    "\n",
    "There are 3 sisters: Jenn, Anna and Ina. Ina is 3 years older than Jenn. Anna is 5 years younger than Jenn. Their combined age is 34. Find the age of each girl.\n",
    "\n",
    "$$ \\text{x Jenn's age} $$\n",
    "$$ \\text{x + 3 Ina's age} $$\n",
    "$$ \\text{x - 5 Anna's age} $$\n",
    "\n",
    "$$ x+(x+3)+(x-5)=34 $$\n",
    "\n",
    "$$ 3x-2+2=34+2 $$\n",
    "\n",
    "$$ 3x=36 $$\n",
    "\n",
    "$$ \\frac{3x}{3}=\\frac{36}{3} $$\n",
    "\n",
    "$$ x=12 $$\n",
    "\n",
    "$$ \\text{Jenn(12), Ina(15), Anna(7)} $$"
   ]
  },
  {
   "cell_type": "markdown",
   "id": "ab7c85a8",
   "metadata": {},
   "source": [
    "## Task 3\n",
    "\n",
    "A pharmacist needs to make 10mg of a medicine containing 82% of a specific herb. He is going to extract it from a plant that is 28% of that herb with another that is 88% of that herb. How much of each should he use?\n",
    "\n",
    "$$ \\text{x 28% plant} $$\n",
    "$$ \\text{(10-x) 88% plant} $$\n",
    "\n",
    "$$ 0.28x+0.88(10-x)=0.82*10 $$\n",
    "\n",
    "$$ 0.28x+8.8-0.88x=8.2 $$\n",
    "\n",
    "$$ -0.6x+8.8=8.2 $$\n",
    "\n",
    "$$ -0.6x+8.8-8.8=8.2-8.8 $$\n",
    "\n",
    "$$ -0.6x=-0.6 $$\n",
    "\n",
    "$$ \\frac{-0.6x}{-0.6}=\\frac{-0.6}{-0.6} $$\n",
    "\n",
    "$$ x=1 $$\n",
    "\n",
    "$$ \\text{He needs 1mg of 28% plant and 9mg of the 88% plant} $$"
   ]
  },
  {
   "cell_type": "markdown",
   "id": "683dd1fd",
   "metadata": {},
   "source": [
    "## Task 4\n",
    "\n",
    "John left point A and traveled toward point B. Jane left 1 hour later traveling 22 miles per hour faster in an effort to catch up to him. After 2 hours Jane funally caught up. What was John's average speed.\n",
    "\n",
    "$$ Distance=Rate of speed * Time traveled $$\n",
    "\n",
    "$$ \\text{John's distance}=\\text{Jane's distance} $$\n",
    "\n",
    "$$ \\text{3 - John's time} $$\n",
    "$$ \\text{2 - Jane's time} $$\n",
    "\n",
    "$$ \\text{x - John's speed} $$\n",
    "$$ \\text{x+22 - Jane's speed} $$\n",
    "\n",
    "$$ \\text{D=3x - John} $$\n",
    "$$ \\text{D=2(x+22) - Jane} $$\n",
    "\n",
    "---\n",
    "\n",
    "$$ 3x=2(x+22) $$\n",
    "\n",
    "$$ 3x=2x+44 $$\n",
    "\n",
    "$$ 3x-2x=2x-2x+44 $$\n",
    "\n",
    "$$ x=44 $$\n",
    "\n",
    "$$ \\text{John's average speed was 44 mph. 3hours * 44 mph = 132} $$\n",
    "$$ \\text{Jane's average speed was 66 mph. 2hours * 66 mph = 132} $$"
   ]
  }
 ],
 "metadata": {
  "kernelspec": {
   "display_name": "Python 3 (ipykernel)",
   "language": "python",
   "name": "python3"
  },
  "language_info": {
   "codemirror_mode": {
    "name": "ipython",
    "version": 3
   },
   "file_extension": ".py",
   "mimetype": "text/x-python",
   "name": "python",
   "nbconvert_exporter": "python",
   "pygments_lexer": "ipython3",
   "version": "3.10.9"
  }
 },
 "nbformat": 4,
 "nbformat_minor": 5
}
