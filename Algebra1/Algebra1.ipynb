{
 "cells": [
  {
   "cell_type": "markdown",
   "id": "1353049d",
   "metadata": {},
   "source": [
    "# Variables and Algebraic expressions\n",
    "\n",
    "A variable is a slot for a value which can vary."
   ]
  },
  {
   "cell_type": "markdown",
   "id": "66ef2f70",
   "metadata": {},
   "source": [
    "$$ x=3 $$\n",
    "$$ 3x=9 $$"
   ]
  },
  {
   "cell_type": "markdown",
   "id": "eeff723f",
   "metadata": {},
   "source": [
    "## Examples\n",
    "\n",
    "- example 1\n",
    "\n",
    "$$ 3(x-4)=3x-12 $$\n",
    "\n",
    "- example 2\n",
    "\n",
    "$$ 4(x-7)+2=4x-28+2=4x-26 $$\n",
    "\n",
    "- example 3\n",
    "\n",
    "$$ -2(4x-7)+4(x-3)=-8x+14+4x-12=-4x+2 $$"
   ]
  },
  {
   "cell_type": "markdown",
   "id": "ed1cb7b4",
   "metadata": {},
   "source": [
    "# Equations"
   ]
  },
  {
   "cell_type": "markdown",
   "id": "ad705389",
   "metadata": {},
   "source": [
    "## Examples\n",
    "\n",
    "- example 1\n",
    "\n",
    "$$ 2x=8 $$\n",
    "\n",
    "$$ 2*4=8 $$\n",
    "\n",
    "- example 2\n",
    "\n",
    "$$ \\frac{x}{6}=2 $$\n",
    "\n",
    "$$ \\frac{12}{6}=2 $$\n",
    "\n",
    "- example 3\n",
    "\n",
    "$$ n^2=8n $$\n",
    "\n",
    "$$ (8)^2=8(8) $$"
   ]
  },
  {
   "cell_type": "markdown",
   "id": "5b3da0f5",
   "metadata": {},
   "source": [
    "# Addition Property of Equality\n",
    "\n",
    "We can add the same number to both sides of an equation without changing the solution."
   ]
  },
  {
   "cell_type": "markdown",
   "id": "6395f694",
   "metadata": {},
   "source": [
    "## Examples\n",
    "\n",
    "- example 1\n",
    "\n",
    "$$ x+4=10 $$\n",
    "\n",
    "$$ x+4+(-4)=10+(-4) $$\n",
    "\n",
    "$$ x=6 $$"
   ]
  },
  {
   "cell_type": "markdown",
   "id": "c5998a6b",
   "metadata": {},
   "source": [
    "# Multiplication Property of Equality\n",
    "\n",
    "We can multiply or divide both sides of an equation by the same non-zero number and maintain the same solution."
   ]
  },
  {
   "cell_type": "markdown",
   "id": "a21eacc8",
   "metadata": {},
   "source": [
    "## Examples\n",
    "\n",
    "- example 1\n",
    "\n",
    "$$ 3x=9 $$\n",
    "\n",
    "$$ \\frac{3x}{3}=\\frac{9}{3} $$\n",
    "\n",
    "$$ 1x=3 $$\n",
    "\n",
    "$$ x=3 $$\n",
    "\n",
    "- example 2\n",
    "\n",
    "$$ \\frac{2}{3}x=10 $$\n",
    "\n",
    "$$ \\frac{3}{2}*\\frac{2}{3}x=10*\\frac{3}{2} $$\n",
    "\n",
    "$$ 1x=5*\\frac{3}{1} $$\n",
    "\n",
    "$$ x=15 $$\n",
    "\n",
    "- example 3\n",
    "\n",
    "$$ \\frac{z}{8}=-6 $$\n",
    "\n",
    "$$ \\frac{8}{1}*\\frac{1}{8}*z=-6*\\frac{8}{1} $$\n",
    "\n",
    "$$ z=-48 $$"
   ]
  },
  {
   "cell_type": "markdown",
   "id": "390f91a9",
   "metadata": {},
   "source": [
    "# Solving Linear equations in one variable"
   ]
  },
  {
   "cell_type": "markdown",
   "id": "89362f73",
   "metadata": {},
   "source": [
    "## Examples\n",
    "\n",
    "- example 1\n",
    "\n",
    "$$ -4-4(5+5x)=-64 $$\n",
    "\n",
    "$$ -4-20-20x=-64 $$\n",
    "\n",
    "$$ -24-20x=-64 $$\n",
    "\n",
    "$$ 24-24-20x=-64+24 $$\n",
    "\n",
    "$$ -20x=-40 $$\n",
    "\n",
    "$$ \\frac{-20x}{-20}=\\frac{-40}{-20} $$\n",
    "\n",
    "$$ x=2 $$"
   ]
  },
  {
   "cell_type": "markdown",
   "id": "523eb7f9",
   "metadata": {},
   "source": [
    "# Solving Linear equations with fractions or decimals\n",
    "\n",
    "Multiply both sides of the equation by the LCD of all fractions in the equation."
   ]
  },
  {
   "cell_type": "markdown",
   "id": "0086118e",
   "metadata": {},
   "source": [
    "## Examples\n",
    "\n",
    "- example 1\n",
    "\n",
    "$$ \\frac{7x}{4}+\\frac{1x}{2}=\\frac{63}{20} $$\n",
    "\n",
    "$$ \\text{LCD->LCM(4,2,20)=2*2*5=20} $$\n",
    "$$ \\text{4=2*2} $$\n",
    "$$ \\text{2=2} $$\n",
    "$$ \\text{20=2*2*5} $$\n",
    "\n",
    "$$ 20\\left[\\frac{7x}{4}+\\frac{1x}{2}\\right]=20*\\frac{63}{20} $$\n",
    "\n",
    "$$ 20*\\frac{7x}{4}+20*\\frac{1x}{2}=63 $$\n",
    "\n",
    "$$ 5*7x+10*1x=63 $$\n",
    "\n",
    "$$ 35x+10x=63 $$\n",
    "\n",
    "$$ 45x=63 $$\n",
    "\n",
    "$$ \\frac{45x}{45}=\\frac{63}{45} $$\n",
    "\n",
    "$$ x=\\frac{7}{5} $$\n",
    "\n",
    "- example 2\n",
    "\n",
    "$$ 17.8321+2.589y=0.8(y+4.37)+4.6y $$\n",
    "\n",
    "$$ 17.8321+2.589y=0.8y+3.496+4.6y $$\n",
    "\n",
    "$$ 10000(17.8321+2.589y)=10000(0.8y+3.496+4.6y) $$\n",
    "\n",
    "$$ 178321+25890y=8000y+34960+46000y $$\n",
    "\n",
    "$$ 178321+25890y=54000y+34960 $$\n",
    "\n",
    "$$ 178321+25890y-54000y=54000y+34960-54000y $$\n",
    "\n",
    "$$ 178321-28110y=34960 $$\n",
    "\n",
    "$$ 178321-28110y-178321=34960-178321 $$\n",
    "\n",
    "$$ -28110y=-143361 $$\n",
    "\n",
    "$$ \\frac{-28110y}{-28110}=\\frac{-143361}{-28110} $$\n",
    "\n",
    "$$ y=5.1 $$"
   ]
  }
 ],
 "metadata": {
  "kernelspec": {
   "display_name": "Python 3 (ipykernel)",
   "language": "python",
   "name": "python3"
  },
  "language_info": {
   "codemirror_mode": {
    "name": "ipython",
    "version": 3
   },
   "file_extension": ".py",
   "mimetype": "text/x-python",
   "name": "python",
   "nbconvert_exporter": "python",
   "pygments_lexer": "ipython3",
   "version": "3.10.9"
  }
 },
 "nbformat": 4,
 "nbformat_minor": 5
}
