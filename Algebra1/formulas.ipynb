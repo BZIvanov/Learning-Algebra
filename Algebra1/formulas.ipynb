{
 "cells": [
  {
   "cell_type": "markdown",
   "id": "d1e06d5d",
   "metadata": {},
   "source": [
    "# Algebra 1 formulas\n",
    "\n",
    "Summary with Algebra 1 formulas.\n",
    "\n",
    "## Linear equation in one variable\n",
    "\n",
    "$$ ax + b = c $$\n",
    "\n",
    "## Linear equation in two variables\n",
    "\n",
    "$$ ax + by = c $$\n",
    "\n",
    "## Slope of a line\n",
    "\n",
    "$$ m = \\frac{Y_{2} - Y_{1}}{X_{2} - X_{1}} $$\n",
    "\n",
    "where:\n",
    "\n",
    "_m_ - slope\n",
    "\n",
    "$ X_{2} \\ne X_{1} $\n",
    "\n",
    "---\n",
    "\n",
    "With the below formula, we can also find the slope by solving the equation for **y**. The slope (m) will be the coefficient for **x**.\n",
    "\n",
    "$$ y = mx + b $$\n",
    "\n",
    "where: \n",
    "\n",
    "_m_ - slope\n",
    "\n",
    "_b_ - y-intercept(0, b)\n",
    "\n",
    "---\n",
    "\n",
    "The difference between the two formulas is that:\n",
    "\n",
    "- **y = mx + b** gives you the equation of a line in _slope-intercept form_, where the slope (m) and y-intercept (b) are readily available.\n",
    "- **m = (Y2 - Y1) / (X2 - X1)** is a formula specifically for calculating the _slope (m)_ of a line given two points on that line. Those points are represented by their coordinates (X1, Y1) and (X2, Y2).\n",
    "\n",
    "Here's the connection:\n",
    "\n",
    "- The slope (m) in **y = mx + b** is the same concept as the slope (m) calculated from the point formula **m = (Y2 - Y1) / (X2 - X1)**.\n",
    "- They both represent the rise over run of the line.\n",
    "\n",
    "So, if you are given the equation of the line (like y = mx + b), you can directly read the slope (m) from the equation.\n",
    "\n",
    "On the other hand, if you are only given two points on the line, you can use the second formula  m = (Y2 - Y1) / (X2 - X1)  to find the slope.\n",
    "\n",
    "In essence, the second formula is a step you might use to get the information (slope) that you can then plug into the first equation (slope-intercept form) to fully represent the line."
   ]
  }
 ],
 "metadata": {
  "kernelspec": {
   "display_name": "Python 3 (ipykernel)",
   "language": "python",
   "name": "python3"
  },
  "language_info": {
   "codemirror_mode": {
    "name": "ipython",
    "version": 3
   },
   "file_extension": ".py",
   "mimetype": "text/x-python",
   "name": "python",
   "nbconvert_exporter": "python",
   "pygments_lexer": "ipython3",
   "version": "3.10.9"
  }
 },
 "nbformat": 4,
 "nbformat_minor": 5
}
