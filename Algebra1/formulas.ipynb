{
 "cells": [
  {
   "cell_type": "markdown",
   "id": "d1e06d5d",
   "metadata": {},
   "source": [
    "# Algebra 1 formulas\n",
    "\n",
    "Summary with Algebra 1 formulas.\n",
    "\n",
    "## Linear equation in one variable\n",
    "\n",
    "$$ ax + b = c $$\n",
    "\n",
    "## Linear equation in two variables\n",
    "\n",
    "$$ ax + by = c $$"
   ]
  }
 ],
 "metadata": {
  "kernelspec": {
   "display_name": "Python 3 (ipykernel)",
   "language": "python",
   "name": "python3"
  },
  "language_info": {
   "codemirror_mode": {
    "name": "ipython",
    "version": 3
   },
   "file_extension": ".py",
   "mimetype": "text/x-python",
   "name": "python",
   "nbconvert_exporter": "python",
   "pygments_lexer": "ipython3",
   "version": "3.10.9"
  }
 },
 "nbformat": 4,
 "nbformat_minor": 5
}
