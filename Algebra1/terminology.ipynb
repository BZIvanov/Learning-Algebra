{
 "cells": [
  {
   "cell_type": "markdown",
   "id": "4759011c",
   "metadata": {},
   "source": [
    "# Terminology\n",
    "\n",
    "- **Term** - term is a single number, variable, or a number times one or many variables. Examples:\n",
    "\n",
    "$$ 4x $$\n",
    "$$ 8xyz $$\n",
    "\n",
    "- **Like terms** - For addition and subtraction, like terms are terms whose bases (variables) are the same and and whose exponents are the same. In other words, we can add $ 2x^2 $ and $ 3x^2 $, because they both have base x and an exponent of 2, but we can't add $ 2x^3 $ and $ 3x^4 $, because, while they have the same base x, they have different exponents. For multiplying and dividing, the base has to be the same, but the exponents can be different. In other words, we can multiply $ x^2 $ and $ x^3 $, because they both have base x, but we can't multiply $ x^2 $ and $ y^3 $, because they don't have the same base.\n",
    "\n",
    "- **Coefficient** - when a number is next to a variable/s, it is known as a coefficient. In the below example 2 is a coefficient of the variable x\n",
    "\n",
    "$$ 2x $$\n",
    "\n",
    "- **Constant** - 'a' is coefficient of x. 'b' and 'c' are constants\n",
    "\n",
    "$$ ax + b = c $$\n",
    "\n",
    "- **Variable** - placeholder value. Example\n",
    "\n",
    "$$ x $$\n",
    "\n",
    "$$ y $$\n",
    "\n",
    "- **Expression** - one or more terms separated by + or - symbols\n",
    "\n",
    "$$ 5x + 2y - 4z $$\n",
    "\n",
    "- **Equation** - statement that two algenraic expressions are equal. An equation always includes the equality symbol '='\n",
    "\n",
    "$$ 2x = 8 $$\n",
    "\n",
    "- **Perfect square** - any number whose square root is a rational number is called a perfect square\n",
    "\n",
    "$$ \\sqrt{9} = 3 $$\n",
    "\n",
    "- **Square root index** - 3 is the square root index\n",
    "\n",
    "$$ \\sqrt[3]{8} $$\n",
    "   \n",
    "- **Monomial** - monomial is a single term with a numeric coefficient (like 3 or -7) multiplied by a variable (like x or y) raised to a whole number power (0, 1, 2, 3, etc.). Examples: \n",
    "\n",
    "$$ 5x^2 $$\n",
    "\n",
    "$$ -4y $$\n",
    "\n",
    "$$ 1 $$\n",
    "    \n",
    "- **Polynomial** - polynomial is a combination of monomials added or subtracted together. Think of it as a chain of terms linked by plus or minus signs. Examples: \n",
    "\n",
    "$$ 2x^3 - 5x + 1 $$\n",
    "\n",
    "$$ 7y^2 - 3yz + 4 $$"
   ]
  }
 ],
 "metadata": {
  "kernelspec": {
   "display_name": "Python [conda env:base] *",
   "language": "python",
   "name": "conda-base-py"
  },
  "language_info": {
   "codemirror_mode": {
    "name": "ipython",
    "version": 3
   },
   "file_extension": ".py",
   "mimetype": "text/x-python",
   "name": "python",
   "nbconvert_exporter": "python",
   "pygments_lexer": "ipython3",
   "version": "3.12.7"
  }
 },
 "nbformat": 4,
 "nbformat_minor": 5
}
