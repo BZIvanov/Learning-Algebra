{
 "cells": [
  {
   "cell_type": "markdown",
   "id": "4759011c",
   "metadata": {},
   "source": [
    "# Terminology\n",
    "\n",
    "- **Term**\n",
    "\n",
    "$$ 4x $$\n",
    "$$ 8xyz $$\n",
    "\n",
    "    - term is a single number, variable, or a number times one or many variables. The above examples are different terms.\n",
    "    \n",
    "- **Coefficient**\n",
    "\n",
    "$$ 2x $$\n",
    "\n",
    "    - when a number is next to a variable/s, it is known as a coefficient. In the above example 2 is a coefficient\n",
    "    \n",
    "- **Constant**\n",
    "\n",
    "$$ ax+b=c $$\n",
    "\n",
    "    - 'a' is coefficient of x. 'b' and 'c' are constants\n",
    "    \n",
    "- **Algebraic expression**\n",
    "\n",
    "$$ 5x+2y-4z $$\n",
    "\n",
    "    - one or more terms separated by + or - symbols\n",
    "    \n",
    "- **Equation**\n",
    "\n",
    "$$ 2x=8 $$\n",
    "\n",
    "    - statement that two algenraic expressions are equal. An equation always includes the equality symbol '='\n",
    "    \n",
    "- **Perfect square**\n",
    "\n",
    "$$ \\sqrt{9} = 3 $$\n",
    "\n",
    "    - anu number whose square root is a rational number is called a perfect square\n",
    "    \n",
    "- Square root **index** and **radicand**\n",
    "\n",
    "$$ \\sqrt[3]{8} $$\n",
    "\n",
    "    - 3 - index\n",
    "    - 8 - radicand"
   ]
  }
 ],
 "metadata": {
  "kernelspec": {
   "display_name": "Python 3 (ipykernel)",
   "language": "python",
   "name": "python3"
  },
  "language_info": {
   "codemirror_mode": {
    "name": "ipython",
    "version": 3
   },
   "file_extension": ".py",
   "mimetype": "text/x-python",
   "name": "python",
   "nbconvert_exporter": "python",
   "pygments_lexer": "ipython3",
   "version": "3.10.9"
  }
 },
 "nbformat": 4,
 "nbformat_minor": 5
}
