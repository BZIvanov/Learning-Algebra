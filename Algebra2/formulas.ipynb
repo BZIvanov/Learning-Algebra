{
 "cells": [
  {
   "cell_type": "markdown",
   "id": "8f2bd18c",
   "metadata": {},
   "source": [
    "# Algebra 2 formulas\n",
    "\n",
    "## Linear equation in three variables\n",
    "\n",
    "$$ ax + by + cz = k $$"
   ]
  },
  {
   "cell_type": "code",
   "execution_count": null,
   "id": "de1bf08d",
   "metadata": {},
   "outputs": [],
   "source": []
  }
 ],
 "metadata": {
  "kernelspec": {
   "display_name": "Python 3 (ipykernel)",
   "language": "python",
   "name": "python3"
  },
  "language_info": {
   "codemirror_mode": {
    "name": "ipython",
    "version": 3
   },
   "file_extension": ".py",
   "mimetype": "text/x-python",
   "name": "python",
   "nbconvert_exporter": "python",
   "pygments_lexer": "ipython3",
   "version": "3.10.9"
  }
 },
 "nbformat": 4,
 "nbformat_minor": 5
}
