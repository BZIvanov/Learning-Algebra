{
 "cells": [
  {
   "cell_type": "markdown",
   "id": "eb0eb7f0",
   "metadata": {},
   "source": [
    "# Place value"
   ]
  },
  {
   "cell_type": "markdown",
   "id": "7b495f42",
   "metadata": {},
   "source": [
    "In the below example we have 1 in thousands, 2 in hundreds, 5 in tens and 9 in ones.\n",
    "\n",
    "$$ 1259 = 1000 + 200 + 50 + 9 $$"
   ]
  },
  {
   "cell_type": "markdown",
   "id": "09c63468",
   "metadata": {},
   "source": [
    "# Expanded Notation"
   ]
  },
  {
   "cell_type": "markdown",
   "id": "23adb91d",
   "metadata": {},
   "source": [
    "$$ 1259 = 1 * 1000 + 2 * 100 + 5 * 10 + 9 * 1 $$"
   ]
  },
  {
   "cell_type": "markdown",
   "id": "35bd064e",
   "metadata": {},
   "source": [
    "# Addition"
   ]
  },
  {
   "cell_type": "markdown",
   "id": "11abbb24",
   "metadata": {},
   "source": [
    "**Commutative Property** - we can add in any order and will get the same result:\n",
    "\n",
    "$$ 4 + 5 = 5 + 4 $$"
   ]
  },
  {
   "cell_type": "markdown",
   "id": "07bdafcc",
   "metadata": {},
   "source": [
    "# Subtraction"
   ]
  },
  {
   "cell_type": "markdown",
   "id": "3c6a813e",
   "metadata": {},
   "source": [
    "$$ 2-3 \\ne 3-2 $$"
   ]
  },
  {
   "cell_type": "markdown",
   "id": "3d7c5f24",
   "metadata": {},
   "source": [
    "# Multiplication"
   ]
  },
  {
   "cell_type": "markdown",
   "id": "de7d2183",
   "metadata": {},
   "source": [
    "**Associative Property** - we can group numbers in any order without changing the product\n",
    "\n",
    "$$ (2*3)*4=3*(2*4) $$\n",
    "\n",
    "---\n",
    "\n",
    "**Identity Property of One** - any number multiplied by 1 remains unchanged\n",
    "\n",
    "$$ 5*1=5 $$\n",
    "\n",
    "---\n",
    "\n",
    "**Multiplication Property of Zero** - any number multiplied by 0 result in 0\n",
    "\n",
    "$$ 5*0=0 $$\n",
    "\n",
    "---\n",
    "\n",
    "**Distributive Property of Multiplication** - multiplication is distributive over addition/subtraction\n",
    "\n",
    "$$ 3(2+4)=3*2+3*4 $$"
   ]
  },
  {
   "cell_type": "markdown",
   "id": "45febeca",
   "metadata": {},
   "source": [
    "Example of how we could represent the multiplication\n",
    "\n",
    "$$ 3 * 9 = 9 + 9 + 9 $$"
   ]
  },
  {
   "cell_type": "markdown",
   "id": "e169b69e",
   "metadata": {},
   "source": [
    "# Division"
   ]
  },
  {
   "cell_type": "markdown",
   "id": "b9566969",
   "metadata": {},
   "source": [
    "Zero divided by any nonzero number is always zero\n",
    "\n",
    "$$ 0:5=0 $$\n",
    "\n",
    "$$ \\frac{0}{5}=0 $$\n",
    "\n",
    "---\n",
    "\n",
    "We must not divide by 0\n",
    "\n",
    "$$ 3:0=\\text{undefined} $$\n",
    "\n",
    "---\n",
    "\n",
    "$$ 20:5=\\frac{20}{5} $$\n",
    "\n",
    "---\n",
    "\n",
    "If we have 4 pieces of the whole 4, we have all pieces.\n",
    "\n",
    "$$ \\frac{4}{4}=1 $$\n",
    "\n",
    "---\n",
    "\n",
    "$$ -\\frac{1}{5}=\\frac{-1}{5}=\\frac{1}{-5} $$"
   ]
  },
  {
   "cell_type": "markdown",
   "id": "58b4db7c",
   "metadata": {},
   "source": [
    "## Examples"
   ]
  },
  {
   "cell_type": "markdown",
   "id": "88f2dbb1",
   "metadata": {},
   "source": [
    "$$ -20:-5=4 $$"
   ]
  },
  {
   "cell_type": "markdown",
   "id": "f3688355",
   "metadata": {},
   "source": [
    "# Exponent"
   ]
  },
  {
   "cell_type": "markdown",
   "id": "ad772503",
   "metadata": {},
   "source": [
    "$$ 3*3*3*3*3*3*3*3*3=3^9 $$\n",
    "\n",
    "---\n",
    "\n",
    "Any number raised to the power of 1 is just itself\n",
    "\n",
    "$$ 9^1=9 $$\n",
    "\n",
    "---\n",
    "\n",
    "_Squared_ number - number to the power of 2\n",
    "\n",
    "$$ 3^2 $$\n",
    "\n",
    "---\n",
    "\n",
    "_Cubed_ number - number to the power of 3\n",
    "\n",
    "$$ 3^3 $$\n",
    "\n",
    "---\n",
    "\n",
    "If the minus sign is not in paranthesis, it is not included in the base, when multiplying the exponent.\n",
    "\n",
    "$$ -2^2=-4 $$\n",
    "\n",
    "$$ (-2)^2=4 $$\n",
    "\n",
    "---\n",
    "\n",
    "$$ \\sqrt{9}=9^{\\frac{1}{2}}=9^{0.5} $$"
   ]
  },
  {
   "cell_type": "markdown",
   "id": "4781dfc6",
   "metadata": {},
   "source": [
    "# Order of operations"
   ]
  },
  {
   "cell_type": "markdown",
   "id": "f88dba4c",
   "metadata": {},
   "source": [
    "1. Parenthesis\n",
    "2. Exponents\n",
    "3. Multiplication and Division\n",
    "4. Addition and Subtraction"
   ]
  },
  {
   "cell_type": "markdown",
   "id": "04e9cf80",
   "metadata": {},
   "source": [
    "# Absolute value"
   ]
  },
  {
   "cell_type": "markdown",
   "id": "3bcfd3a2",
   "metadata": {},
   "source": [
    "$$ \\left|-4\\right|=4 $$\n",
    "\n",
    "\n",
    "$$ \\left|4\\right|=4 $$"
   ]
  },
  {
   "cell_type": "markdown",
   "id": "4855ba79",
   "metadata": {},
   "source": [
    "# Divisibility rules"
   ]
  },
  {
   "cell_type": "markdown",
   "id": "ce35547f",
   "metadata": {},
   "source": [
    "Rules about how we can divide numbers. For example numbers ending with 0 are divisible by 10 and even numbers are divisible by 2."
   ]
  },
  {
   "cell_type": "markdown",
   "id": "41c56896",
   "metadata": {},
   "source": [
    "# Factoring Whole numbers"
   ]
  },
  {
   "cell_type": "markdown",
   "id": "57c32cc5",
   "metadata": {},
   "source": [
    "## Prime number\n",
    "\n",
    "A prime number is a whole number larger than 1, that is only divisible by itself and 1.\n",
    "\n",
    "2 is the only even prime number. Any even number larger than 2 is divisible by 2 and therefore not a prime number."
   ]
  },
  {
   "cell_type": "markdown",
   "id": "2811d769",
   "metadata": {},
   "source": [
    "## Composite number\n",
    "\n",
    "A composite number is a whole number that is greater than 1 and is divisible by a whole number other than itself and 1."
   ]
  },
  {
   "cell_type": "markdown",
   "id": "2523859a",
   "metadata": {},
   "source": [
    "# Improper fraction to Mixed number"
   ]
  },
  {
   "cell_type": "markdown",
   "id": "a390554f",
   "metadata": {},
   "source": [
    "## Examples\n",
    "\n",
    "As we can see after the equal sign the number before the fraction is number of the whole pieces. For the nominator of the fraction the value is the remainder of the division and for the denominator of the fraction the value is the denominator of the fraction before the equal sign."
   ]
  },
  {
   "cell_type": "markdown",
   "id": "ab31a16f",
   "metadata": {},
   "source": [
    "$$ \\frac{18}{7}=2^{\\frac{4}{7}} $$\n",
    "\n",
    "$$ \\frac{19}{3}=6^{\\frac{1}{3}} $$\n",
    "\n",
    "$$ \\frac{11}{7}=1^{\\frac{4}{7}} $$\n",
    "\n",
    "$$ \\frac{31}{15}=2^{\\frac{1}{15}} $$"
   ]
  },
  {
   "cell_type": "markdown",
   "id": "48b15bac",
   "metadata": {},
   "source": [
    "# Mixed number to Improper fraction"
   ]
  },
  {
   "cell_type": "markdown",
   "id": "ece444a7",
   "metadata": {},
   "source": [
    "## Examples"
   ]
  },
  {
   "cell_type": "markdown",
   "id": "dfe65c51",
   "metadata": {},
   "source": [
    "$$ 3^{\\frac{1}{8}}=\\frac{3*8+1}{8}=\\frac{25}{8} $$\n",
    "\n",
    "$$ 8^{\\frac{1}{3}}=\\frac{8*3+1}{3}=\\frac{25}{3} $$\n",
    "\n",
    "$$ 3^{\\frac{5}{8}}=\\frac{3*8+5}{8}=\\frac{29}{8} $$\n",
    "\n",
    "$$ 100^{\\frac{7}{9}}=\\frac{100*9+7}{9}=\\frac{907}{9} $$"
   ]
  },
  {
   "cell_type": "markdown",
   "id": "8fff3ac7",
   "metadata": {},
   "source": [
    "# GCD (Greates Common Divisor)\n",
    "\n",
    "Greatest Common Divisor and Greatest Common Factor are the same thing."
   ]
  },
  {
   "cell_type": "markdown",
   "id": "4a664f1b",
   "metadata": {},
   "source": [
    "## Examples\n",
    "\n",
    "We need to create factor tree for each number. The factor tree for each number is reduced to prime numbers.\n",
    "\n",
    "- example 1\n",
    "\n",
    "$$ \\text{GCD (36,54)} $$\n",
    "\n",
    "$$ \\text{branch 36} $$\n",
    "\n",
    "$$ 36=6*6 $$\n",
    "\n",
    "$$ 6=2*3 $$\n",
    "$$ 6=2*3 $$\n",
    "\n",
    "$$ \\text{2 and 3 are prime numbers so we stop here} $$\n",
    "\n",
    "$$ \\text{branch 54} $$\n",
    "\n",
    "$$ 54=9*6 $$\n",
    "\n",
    "$$ 9=3*3 $$\n",
    "$$ 6=2*3 $$\n",
    "\n",
    "$$ \\text{2 and 3 are prime numbers so we stop here} $$\n",
    "\n",
    "$$ 36=2*2*3*3 $$\n",
    "$$ 54=2*3*3*3 $$\n",
    "\n",
    "$$ \\text{the common numbers from both lists are 2, 3 and 3} $$\n",
    "\n",
    "$$ \\text{GCD(36,54) = 2 * 3 * 3 = 18} $$"
   ]
  },
  {
   "cell_type": "markdown",
   "id": "a7f0350f",
   "metadata": {},
   "source": [
    "# Simplifying fractions\n",
    "\n",
    "For simplifying the fractions we are reducing them to prime numbers using factor tree and then canceling the common numbers in the numerator and denominator."
   ]
  },
  {
   "cell_type": "markdown",
   "id": "8d9e7f78",
   "metadata": {},
   "source": [
    "## Examples\n",
    "\n",
    "- example 1\n",
    "\n",
    "$$ \\frac{15}{27}=\\frac{5*3}{3*3*3}=\\frac{5}{9} $$\n",
    "\n",
    "- example 2\n",
    "\n",
    "$$ \\frac{18}{60}=\\frac{2*3*3}{2*2*3*5}=\\frac{3}{10} $$\n",
    "\n",
    "- example 3\n",
    "\n",
    "$$ \\frac{-33}{77}=\\frac{-1*3*11}{7*11}=\\frac{-3}{7} $$"
   ]
  },
  {
   "cell_type": "markdown",
   "id": "84d2b27e",
   "metadata": {},
   "source": [
    "# Multiplying fractions"
   ]
  },
  {
   "cell_type": "markdown",
   "id": "07fa0448",
   "metadata": {},
   "source": [
    "## Examples\n",
    "\n",
    "- example 1\n",
    "\n",
    "$$ \\frac{2}{5}*\\frac{1}{7}=\\frac{2}{35} $$\n",
    "\n",
    "- example 2\n",
    "\n",
    "$$ \\frac{3}{5}*\\frac{10}{12}=\\frac{3*5}{5*2*2*2*3}=\\frac{1}{8} $$\n",
    "\n",
    "- example 3\n",
    "\n",
    "$$ \\frac{9}{20}*\\frac{5}{33}=\\frac{3*3}{5*2*2}*\\frac{5}{3*11}=\\frac{3}{2*2}*\\frac{1}{11}=\\frac{3}{44} $$\n",
    "\n",
    "- example 4\n",
    "\n",
    "$$ 6*\\frac{1}{3}=\\frac{6}{1}*\\frac{1}{3}=\\frac{2}{1}=2 $$"
   ]
  },
  {
   "cell_type": "markdown",
   "id": "90e6c8ed",
   "metadata": {},
   "source": [
    "# Dividing fractions"
   ]
  },
  {
   "cell_type": "markdown",
   "id": "e4a1bd68",
   "metadata": {},
   "source": [
    "## Examples\n",
    "\n",
    "- example 1\n",
    "\n",
    "$$ 4:\\frac{1}{2}=\\frac{4}{1}:\\frac{1}{2}=\\frac{4}{1}*\\frac{2}{1}=8 $$\n",
    "\n",
    "- example 2\n",
    "\n",
    "$$ \\frac{2}{9}:-4=\\frac{2}{9}:-\\frac{4}{1}=\\frac{2}{9}*-\\frac{1}{4}=\\frac{1}{9}*-\\frac{1}{2}=-\\frac{1}{18} $$\n",
    "\n",
    "- example 3\n",
    "\n",
    "$$ \\frac{3}{5}:\\frac{21}{10}:\\frac{9}{11}=\\frac{3}{5}*\\frac{10}{21}*\\frac{11}{9}=\\frac{1}{1}*\\frac{2}{7}*\\frac{11}{9}=\\frac{22}{63} $$"
   ]
  },
  {
   "cell_type": "markdown",
   "id": "bd103955",
   "metadata": {},
   "source": [
    "# LCM (Least Common Multiple)\n",
    "\n",
    "**4:** 4,8,12,16,20,24,28,32,36,40...\n",
    "\n",
    "**5:** 5,10,15,20,25,30,35,40...\n",
    "\n",
    "Common multiple for 4 and 5 are 20, 40 etc...\n",
    "\n",
    "LCM(4,5) = 20"
   ]
  },
  {
   "cell_type": "markdown",
   "id": "093b2508",
   "metadata": {},
   "source": [
    "## Examples\n",
    "\n",
    "- example 1\n",
    "\n",
    "$$ \\text{LCM(20,35)} $$\n",
    "\n",
    "$$ \\text{Apply factoring to find the prime numbers for each number} $$\n",
    "\n",
    "$$ 20=2*2*5 $$\n",
    "$$ 35=5*7 $$\n",
    "\n",
    "\n",
    "|n  | p1| p2| p3|p4 |\n",
    "|---|---|---|---|---|\n",
    "|20 |2  |2  |5  |-  |\n",
    "|35 |-  |-  |5  |7  |\n",
    "\n",
    "$$ \\text{LCM(20,35)}=2*2*5*7=140 $$\n"
   ]
  },
  {
   "cell_type": "markdown",
   "id": "77ffdf72",
   "metadata": {},
   "source": [
    "# Adding and Subtractring fractions\n",
    "\n",
    "We are reducing the numbers to prime numbers."
   ]
  },
  {
   "cell_type": "markdown",
   "id": "30863ffe",
   "metadata": {},
   "source": [
    "## Examples\n",
    "\n",
    "### With common denominators\n",
    "\n",
    "- example 1\n",
    "\n",
    "$$ \\frac{1}{5}+\\frac{2}{5}=\\frac{3}{5} $$\n",
    "\n",
    "- example 2\n",
    "\n",
    "$$ \\frac{3}{8}-\\frac{2}{8}=\\frac{1}{8} $$\n",
    "\n",
    "- example 3\n",
    "\n",
    "$$ \\frac{31}{50}-\\frac{6}{50}=\\frac{25}{50}=\\frac{1}{2} $$\n",
    "\n",
    "- example 4\n",
    "\n",
    "$$ \\frac{-1}{8}+\\frac{5}{-8}=\\frac{-1}{8}+\\frac{-5}{8}=\\frac{-6}{8}=\\frac{-1*2*3}{2*2*2}=-\\frac{3}{4} $$\n",
    "\n",
    "### With different denominators\n",
    "\n",
    "For solving these tasks we need to find the LCD, which is LCM for the denominators.\n",
    "\n",
    "- example 1\n",
    "\n",
    "$$ \\text{LCD->LCM(3,4)=12} $$\n",
    "\n",
    "$$ \\frac{1}{3}+\\frac{1}{4}=\\frac{1}{3}*\\frac{4}{4}+\\frac{1}{4}*\\frac{3}{3}=\\frac{4}{12}+\\frac{3}{12}=\\frac{4+3}{12}=\\frac{7}{12} $$\n",
    "\n",
    "- example 2\n",
    "\n",
    "$$ \\text{LCD->LCM(4,2)=4} $$\n",
    "\n",
    "$$ \\frac{1}{4}+\\frac{1}{2}=\\frac{1}{4}+\\frac{1}{2}*\\frac{2}{2}=\\frac{1}{4}+\\frac{2}{4}=\\frac{3}{4} $$\n",
    "\n",
    "- example 3\n",
    "\n",
    "$$ \\text{15=3*5} $$\n",
    "$$ \\text{25=5*5} $$\n",
    "$$ \\text{LCD->LCM(15,25)=3*5*5=75} $$\n",
    "\n",
    "$$ \\frac{14}{15}-\\frac{17}{25}=\\frac{14}{15}*\\frac{5}{5}-\\frac{17}{25}*\\frac{3}{3}=\\frac{70}{75}-\\frac{51}{75}=\\frac{19}{75} $$"
   ]
  },
  {
   "cell_type": "markdown",
   "id": "e5cca40a",
   "metadata": {},
   "source": [
    "# Comparing fractions"
   ]
  },
  {
   "cell_type": "markdown",
   "id": "9e04055a",
   "metadata": {},
   "source": [
    "## Examples\n",
    "\n",
    "Different examples of how to find which fractions is bigger or smaller.\n",
    "\n",
    "### Simple form where the result is obvious\n",
    "\n",
    "- example 1\n",
    "\n",
    "$$ \\frac{3}{5}>\\frac{2}{5} $$\n",
    "\n",
    "### Using LCD\n",
    "\n",
    "- example 2\n",
    "\n",
    "$$ \\text{20=2*2*5} $$\n",
    "$$ \\text{12=2*2*3} $$\n",
    "$$ \\text{LCD->LCM(20,12)=2*2*3*5=60} $$\n",
    "\n",
    "$$ \\frac{7}{20}<\\frac{5}{12}=\\frac{7}{20}*\\frac{3}{3}<\\frac{5}{12}*\\frac{5}{5}=\\frac{21}{60}<\\frac{25}{60} $$\n",
    "\n",
    "### Using cross multiply\n",
    "\n",
    "- example 3\n",
    "\n",
    "$$ \\frac{4}{3}>\\frac{6}{5}=20>18 $$\n",
    "\n",
    "- example 4\n",
    "\n",
    "$$ \\frac{-3}{4}<\\frac{2}{-7}=\\frac{-3}{4}<\\frac{-2}{7}=-21<-8 $$"
   ]
  },
  {
   "cell_type": "markdown",
   "id": "ac06875b",
   "metadata": {},
   "source": [
    "# Tasks"
   ]
  },
  {
   "cell_type": "markdown",
   "id": "8d2efc99",
   "metadata": {},
   "source": [
    "## Task 1\n",
    "\n",
    "Tom spent 2/5 of his $50 on apples. How much did he spend?\n",
    "\n",
    "$$ \\frac{2}{5}*50=\\frac{2}{1}*10=20 $$"
   ]
  },
  {
   "cell_type": "markdown",
   "id": "3dfc8f8e",
   "metadata": {},
   "source": [
    "## Task 2\n",
    "\n",
    "A recipe requires 1/2 cup of sugar. If we only want to 3/4 of the recipe, how much sugar is needed?\n",
    "\n",
    "$$ \\frac{1}{2}*\\frac{3}{4}=\\frac{3}{8} \\quad \\text{cups of sugar} $$"
   ]
  }
 ],
 "metadata": {
  "kernelspec": {
   "display_name": "Python 3 (ipykernel)",
   "language": "python",
   "name": "python3"
  },
  "language_info": {
   "codemirror_mode": {
    "name": "ipython",
    "version": 3
   },
   "file_extension": ".py",
   "mimetype": "text/x-python",
   "name": "python",
   "nbconvert_exporter": "python",
   "pygments_lexer": "ipython3",
   "version": "3.10.9"
  }
 },
 "nbformat": 4,
 "nbformat_minor": 5
}
