{
 "cells": [
  {
   "cell_type": "markdown",
   "id": "eb0eb7f0",
   "metadata": {},
   "source": [
    "# Place value"
   ]
  },
  {
   "cell_type": "markdown",
   "id": "7b495f42",
   "metadata": {},
   "source": [
    "In the below example we have 1 in thousands, 2 in hundreds, 5 in tens and 9 in ones.\n",
    "\n",
    "$$ 1259 = 1000 + 200 + 50 + 9 $$"
   ]
  },
  {
   "cell_type": "markdown",
   "id": "09c63468",
   "metadata": {},
   "source": [
    "# Expanded Notation"
   ]
  },
  {
   "cell_type": "markdown",
   "id": "23adb91d",
   "metadata": {},
   "source": [
    "$$ 1259 = 1 * 1000 + 2 * 100 + 5 * 10 + 9 * 1 $$"
   ]
  },
  {
   "cell_type": "markdown",
   "id": "35bd064e",
   "metadata": {},
   "source": [
    "# Addition"
   ]
  },
  {
   "cell_type": "markdown",
   "id": "11abbb24",
   "metadata": {},
   "source": [
    "**Commutative Property** - we can add in any order and will get the same result:\n",
    "\n",
    "$$ 4 + 5 = 5 + 4 $$"
   ]
  },
  {
   "cell_type": "markdown",
   "id": "3d7c5f24",
   "metadata": {},
   "source": [
    "# Multiplication"
   ]
  },
  {
   "cell_type": "markdown",
   "id": "de7d2183",
   "metadata": {},
   "source": [
    "$$ 3 * 9 = 9 + 9 + 9 $$"
   ]
  }
 ],
 "metadata": {
  "kernelspec": {
   "display_name": "Python 3 (ipykernel)",
   "language": "python",
   "name": "python3"
  },
  "language_info": {
   "codemirror_mode": {
    "name": "ipython",
    "version": 3
   },
   "file_extension": ".py",
   "mimetype": "text/x-python",
   "name": "python",
   "nbconvert_exporter": "python",
   "pygments_lexer": "ipython3",
   "version": "3.10.9"
  }
 },
 "nbformat": 4,
 "nbformat_minor": 5
}
