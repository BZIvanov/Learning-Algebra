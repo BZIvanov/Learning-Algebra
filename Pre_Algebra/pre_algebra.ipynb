{
 "cells": [
  {
   "cell_type": "markdown",
   "id": "eb0eb7f0",
   "metadata": {},
   "source": [
    "# Place value"
   ]
  },
  {
   "cell_type": "markdown",
   "id": "7b495f42",
   "metadata": {},
   "source": [
    "In the below example we have 1 in thousands, 2 in hundreds, 5 in tens and 9 in ones.\n",
    "\n",
    "$$ 1259 = 1000 + 200 + 50 + 9 $$"
   ]
  },
  {
   "cell_type": "markdown",
   "id": "09c63468",
   "metadata": {},
   "source": [
    "# Expanded Notation"
   ]
  },
  {
   "cell_type": "markdown",
   "id": "23adb91d",
   "metadata": {},
   "source": [
    "$$ 1259 = 1 * 1000 + 2 * 100 + 5 * 10 + 9 * 1 $$"
   ]
  },
  {
   "cell_type": "markdown",
   "id": "35bd064e",
   "metadata": {},
   "source": [
    "# Addition"
   ]
  },
  {
   "cell_type": "markdown",
   "id": "11abbb24",
   "metadata": {},
   "source": [
    "**Commutative Property** - we can add in any order and will get the same result:\n",
    "\n",
    "$$ 4 + 5 = 5 + 4 $$"
   ]
  },
  {
   "cell_type": "markdown",
   "id": "07bdafcc",
   "metadata": {},
   "source": [
    "# Subtraction"
   ]
  },
  {
   "cell_type": "markdown",
   "id": "3c6a813e",
   "metadata": {},
   "source": [
    "$$ 2-3 \\ne 3-2 $$"
   ]
  },
  {
   "cell_type": "markdown",
   "id": "3d7c5f24",
   "metadata": {},
   "source": [
    "# Multiplication"
   ]
  },
  {
   "cell_type": "markdown",
   "id": "de7d2183",
   "metadata": {},
   "source": [
    "**Associative Property** - we can group numbers in any order without changing the product\n",
    "\n",
    "$$ (2*3)*4=3*(2*4) $$\n",
    "\n",
    "---\n",
    "\n",
    "**Identity Property of One** - any number multiplied by 1 remains unchanged\n",
    "\n",
    "$$ 5*1=5 $$\n",
    "\n",
    "---\n",
    "\n",
    "**Multiplication Property of Zero** - any number multiplied by 0 result in 0\n",
    "\n",
    "$$ 5*0=0 $$\n",
    "\n",
    "---\n",
    "\n",
    "**Distributive Property of Multiplication** - multiplication is distributive over addition/subtraction\n",
    "\n",
    "$$ 3(2+4)=3*2+3*4 $$"
   ]
  },
  {
   "cell_type": "markdown",
   "id": "45febeca",
   "metadata": {},
   "source": [
    "Example of how we could represent the multiplication\n",
    "\n",
    "$$ 3 * 9 = 9 + 9 + 9 $$"
   ]
  },
  {
   "cell_type": "markdown",
   "id": "e169b69e",
   "metadata": {},
   "source": [
    "# Division"
   ]
  },
  {
   "cell_type": "markdown",
   "id": "b9566969",
   "metadata": {},
   "source": [
    "Zero divided by any nonzero number is always zero\n",
    "\n",
    "$$ 0:5=0 $$\n",
    "\n",
    "$$ \\frac{0}{5}=0 $$\n",
    "\n",
    "---\n",
    "\n",
    "We must not divide by 0\n",
    "\n",
    "$$ 3:0=\\text{undefined} $$\n",
    "\n",
    "---\n",
    "\n",
    "$$ 20:5=\\frac{20}{5} $$\n",
    "\n",
    "---\n",
    "\n",
    "If we have 4 pieces of the whole 4, we have all pieces.\n",
    "\n",
    "$$ \\frac{4}{4}=1 $$"
   ]
  },
  {
   "cell_type": "markdown",
   "id": "58b4db7c",
   "metadata": {},
   "source": [
    "## Examples"
   ]
  },
  {
   "cell_type": "markdown",
   "id": "88f2dbb1",
   "metadata": {},
   "source": [
    "$$ -20:-5=4 $$"
   ]
  },
  {
   "cell_type": "markdown",
   "id": "f3688355",
   "metadata": {},
   "source": [
    "# Exponent"
   ]
  },
  {
   "cell_type": "markdown",
   "id": "ad772503",
   "metadata": {},
   "source": [
    "$$ 3*3*3*3*3*3*3*3*3=3^9 $$\n",
    "\n",
    "---\n",
    "\n",
    "Any number raised to the power of 1 is just itself\n",
    "\n",
    "$$ 9^1=9 $$\n",
    "\n",
    "---\n",
    "\n",
    "_Squared_ number - number to the power of 2\n",
    "\n",
    "$$ 3^2 $$\n",
    "\n",
    "---\n",
    "\n",
    "_Cubed_ number - number to the power of 3\n",
    "\n",
    "$$ 3^3 $$\n",
    "\n",
    "---\n",
    "\n",
    "If the minus sign is not in paranthesis, it is not included in the base, when multiplying the exponent.\n",
    "\n",
    "$$ -2^2=-4 $$\n",
    "\n",
    "$$ (-2)^2=4 $$\n",
    "\n",
    "---\n",
    "\n",
    "$$ \\sqrt{9}=9^{\\frac{1}{2}}=9^{0.5} $$"
   ]
  },
  {
   "cell_type": "markdown",
   "id": "4781dfc6",
   "metadata": {},
   "source": [
    "# Order of operations"
   ]
  },
  {
   "cell_type": "markdown",
   "id": "f88dba4c",
   "metadata": {},
   "source": [
    "1. Parenthesis\n",
    "2. Exponents\n",
    "3. Multiplication and Division\n",
    "4. Addition and Subtraction"
   ]
  },
  {
   "cell_type": "markdown",
   "id": "04e9cf80",
   "metadata": {},
   "source": [
    "# Absolute value"
   ]
  },
  {
   "cell_type": "markdown",
   "id": "3bcfd3a2",
   "metadata": {},
   "source": [
    "$$ \\left|-4\\right|=4 $$\n",
    "\n",
    "\n",
    "$$ \\left|4\\right|=4 $$"
   ]
  },
  {
   "cell_type": "markdown",
   "id": "4855ba79",
   "metadata": {},
   "source": [
    "# Divisibility rules"
   ]
  },
  {
   "cell_type": "markdown",
   "id": "ce35547f",
   "metadata": {},
   "source": [
    "Rules about how we can divide numbers. For example numbers ending with 0 are divisible by 10 and even numbers are divisible by 2."
   ]
  },
  {
   "cell_type": "markdown",
   "id": "78d3f483",
   "metadata": {},
   "source": [
    "# Factoring Whole numbers"
   ]
  },
  {
   "cell_type": "markdown",
   "id": "44e67084",
   "metadata": {},
   "source": [
    "## Prime number\n",
    "\n",
    "A prime number is a whole number larger than 1, that is only divisible by itself and 1.\n",
    "\n",
    "2 is the only even prime number. Any even number larger than 2 is divisible by 2 and therefore not a prime number."
   ]
  },
  {
   "cell_type": "markdown",
   "id": "c91723c6",
   "metadata": {},
   "source": [
    "## Composite number\n",
    "\n",
    "A composite number is a whole number that is greater than 1 and is divisible by a whole number other than itself and 1."
   ]
  },
  {
   "cell_type": "markdown",
   "id": "da3be0d9",
   "metadata": {},
   "source": [
    "# Improper fraction to Mixed number"
   ]
  },
  {
   "cell_type": "markdown",
   "id": "72ef9179",
   "metadata": {},
   "source": [
    "## Examples\n",
    "\n",
    "As we can see after the equal sign the number before the fraction is number of the whole pieces. For the nominator of the fraction the value is the remainder of the division and for the denominator of the fraction the value is the denominator of the fraction before the equal sign."
   ]
  },
  {
   "cell_type": "markdown",
   "id": "b1c0dcc1",
   "metadata": {},
   "source": [
    "$$ \\frac{18}{7}=2^{\\frac{4}{7}} $$\n",
    "\n",
    "$$ \\frac{19}{3}=6^{\\frac{1}{3}} $$\n",
    "\n",
    "$$ \\frac{11}{7}=1^{\\frac{4}{7}} $$\n",
    "\n",
    "$$ \\frac{31}{15}=2^{\\frac{1}{15}} $$"
   ]
  },
  {
   "cell_type": "markdown",
   "id": "65d0c3c4",
   "metadata": {},
   "source": [
    "# Mixed number to Improper fraction"
   ]
  },
  {
   "cell_type": "markdown",
   "id": "91bf942a",
   "metadata": {},
   "source": [
    "## Examples"
   ]
  },
  {
   "cell_type": "markdown",
   "id": "fd0243b1",
   "metadata": {},
   "source": [
    "$$ 3^{\\frac{1}{8}}=\\frac{3*8+1}{8}=\\frac{25}{8} $$\n",
    "\n",
    "$$ 8^{\\frac{1}{3}}=\\frac{8*3+1}{3}=\\frac{25}{3} $$\n",
    "\n",
    "$$ 3^{\\frac{5}{8}}=\\frac{3*8+5}{8}=\\frac{29}{8} $$\n",
    "\n",
    "$$ 100^{\\frac{7}{9}}=\\frac{100*9+7}{9}=\\frac{907}{9} $$"
   ]
  },
  {
   "cell_type": "markdown",
   "id": "742d573c",
   "metadata": {},
   "source": [
    "# GCD (Greates Common Divisor)\n",
    "\n",
    "Greatest Common Divisor and Greatest Common Factor are the same thing."
   ]
  },
  {
   "cell_type": "markdown",
   "id": "3fddef00",
   "metadata": {},
   "source": [
    "## Examples\n",
    "\n",
    "We need to create factor tree for each number. The factor tree for each number is reduced to prime numbers.\n",
    "\n",
    "- example 1\n",
    "\n",
    "$$ \\text{GCD (36,54)} $$\n",
    "\n",
    "$$ \\text{branch 36} $$\n",
    "\n",
    "$$ 36=6*6 $$\n",
    "\n",
    "$$ 6=2*3 $$\n",
    "$$ 6=2*3 $$\n",
    "\n",
    "$$ \\text{2 and 3 are prime numbers so we stop here} $$\n",
    "\n",
    "$$ \\text{branch 54} $$\n",
    "\n",
    "$$ 54=9*6 $$\n",
    "\n",
    "$$ 9=3*3 $$\n",
    "$$ 6=2*3 $$\n",
    "\n",
    "$$ \\text{2 and 3 are prime numbers so we stop here} $$\n",
    "\n",
    "$$ 36=2*2*3*3 $$\n",
    "$$ 54=2*3*3*3 $$\n",
    "\n",
    "$$ \\text{the common numbers from both lists are 2, 3 and 3} $$\n",
    "\n",
    "$$ \\text{GCD(36,54) = 2 * 3 * 3 = 18} $$"
   ]
  }
 ],
 "metadata": {
  "kernelspec": {
   "display_name": "Python 3 (ipykernel)",
   "language": "python",
   "name": "python3"
  },
  "language_info": {
   "codemirror_mode": {
    "name": "ipython",
    "version": 3
   },
   "file_extension": ".py",
   "mimetype": "text/x-python",
   "name": "python",
   "nbconvert_exporter": "python",
   "pygments_lexer": "ipython3",
   "version": "3.10.9"
  }
 },
 "nbformat": 4,
 "nbformat_minor": 5
}
