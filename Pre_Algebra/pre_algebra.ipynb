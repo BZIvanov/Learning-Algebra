{
 "cells": [
  {
   "cell_type": "markdown",
   "id": "eb0eb7f0",
   "metadata": {},
   "source": [
    "# Place value"
   ]
  },
  {
   "cell_type": "markdown",
   "id": "7b495f42",
   "metadata": {},
   "source": [
    "In the below example we have 1 in thousands, 2 in hundreds, 5 in tens and 9 in ones.\n",
    "\n",
    "$$ 1259 = 1000 + 200 + 50 + 9 $$"
   ]
  },
  {
   "cell_type": "markdown",
   "id": "09c63468",
   "metadata": {},
   "source": [
    "# Expanded Notation"
   ]
  },
  {
   "cell_type": "markdown",
   "id": "23adb91d",
   "metadata": {},
   "source": [
    "$$ 1259 = 1 * 1000 + 2 * 100 + 5 * 10 + 9 * 1 $$"
   ]
  },
  {
   "cell_type": "markdown",
   "id": "35bd064e",
   "metadata": {},
   "source": [
    "# Addition"
   ]
  },
  {
   "cell_type": "markdown",
   "id": "11abbb24",
   "metadata": {},
   "source": [
    "**Commutative Property** - we can add in any order and will get the same result:\n",
    "\n",
    "$$ 4 + 5 = 5 + 4 $$"
   ]
  },
  {
   "cell_type": "markdown",
   "id": "3d7c5f24",
   "metadata": {},
   "source": [
    "# Multiplication"
   ]
  },
  {
   "cell_type": "markdown",
   "id": "de7d2183",
   "metadata": {},
   "source": [
    "**Associative Property** - we can group numbers in any order without changing the product\n",
    "\n",
    "$$ (2*3)*4=3*(2*4) $$\n",
    "\n",
    "---\n",
    "\n",
    "**Identity Property of One** - any number multiplied by 1 remains unchanged\n",
    "\n",
    "$$ 5*1=5 $$\n",
    "\n",
    "---\n",
    "\n",
    "**Multiplication Property of Zero** - any number multiplied by 0 result in 0\n",
    "\n",
    "$$ 5*0=0 $$\n",
    "\n",
    "---\n",
    "\n",
    "**Distributive Property of Multiplication** - multiplication is distributive over addition/subtraction\n",
    "\n",
    "$$ 3(2+4)=3*2+3*4 $$"
   ]
  },
  {
   "cell_type": "markdown",
   "id": "45febeca",
   "metadata": {},
   "source": [
    "Example of how we could represent the multiplication\n",
    "\n",
    "$$ 3 * 9 = 9 + 9 + 9 $$"
   ]
  },
  {
   "cell_type": "markdown",
   "id": "e169b69e",
   "metadata": {},
   "source": [
    "## Division"
   ]
  },
  {
   "cell_type": "markdown",
   "id": "b9566969",
   "metadata": {},
   "source": [
    "Zero divided by any nonzero number is always zero\n",
    "\n",
    "$$ 0:5=0 $$\n",
    "\n",
    "We must not divide by 0\n",
    "\n",
    "$$ 3:0=\\text{undefined} $$"
   ]
  }
 ],
 "metadata": {
  "kernelspec": {
   "display_name": "Python 3 (ipykernel)",
   "language": "python",
   "name": "python3"
  },
  "language_info": {
   "codemirror_mode": {
    "name": "ipython",
    "version": 3
   },
   "file_extension": ".py",
   "mimetype": "text/x-python",
   "name": "python",
   "nbconvert_exporter": "python",
   "pygments_lexer": "ipython3",
   "version": "3.10.9"
  }
 },
 "nbformat": 4,
 "nbformat_minor": 5
}
