{
 "cells": [
  {
   "cell_type": "markdown",
   "id": "eb0eb7f0",
   "metadata": {},
   "source": [
    "# Place value"
   ]
  },
  {
   "cell_type": "markdown",
   "id": "7b495f42",
   "metadata": {},
   "source": [
    "In the below example we have 1 in thousands, 2 in hundreds, 5 in tens and 9 in ones.\n",
    "\n",
    "$$ 1259 = 1000 + 200 + 50 + 9 $$"
   ]
  },
  {
   "cell_type": "markdown",
   "id": "09c63468",
   "metadata": {},
   "source": [
    "# Expanded Notation"
   ]
  },
  {
   "cell_type": "markdown",
   "id": "23adb91d",
   "metadata": {},
   "source": [
    "$$ 1259 = 1 * 1000 + 2 * 100 + 5 * 10 + 9 * 1 $$"
   ]
  },
  {
   "cell_type": "markdown",
   "id": "35bd064e",
   "metadata": {},
   "source": [
    "# Addition"
   ]
  },
  {
   "cell_type": "markdown",
   "id": "11abbb24",
   "metadata": {},
   "source": [
    "**Commutative Property** - we can add in any order and will get the same result:\n",
    "\n",
    "$$ 4 + 5 = 5 + 4 $$"
   ]
  },
  {
   "cell_type": "markdown",
   "id": "07bdafcc",
   "metadata": {},
   "source": [
    "# Subtraction"
   ]
  },
  {
   "cell_type": "markdown",
   "id": "3c6a813e",
   "metadata": {},
   "source": [
    "$$ 2-3 \\ne 3-2 $$"
   ]
  },
  {
   "cell_type": "markdown",
   "id": "3d7c5f24",
   "metadata": {},
   "source": [
    "# Multiplication"
   ]
  },
  {
   "cell_type": "markdown",
   "id": "de7d2183",
   "metadata": {},
   "source": [
    "**Associative Property** - we can group numbers in any order without changing the product\n",
    "\n",
    "$$ (2*3)*4=3*(2*4) $$\n",
    "\n",
    "---\n",
    "\n",
    "**Identity Property of One** - any number multiplied by 1 remains unchanged\n",
    "\n",
    "$$ 5*1=5 $$\n",
    "\n",
    "---\n",
    "\n",
    "**Multiplication Property of Zero** - any number multiplied by 0 result in 0\n",
    "\n",
    "$$ 5*0=0 $$\n",
    "\n",
    "---\n",
    "\n",
    "**Distributive Property of Multiplication** - multiplication is distributive over addition/subtraction\n",
    "\n",
    "$$ 3(2+4)=3*2+3*4 $$"
   ]
  },
  {
   "cell_type": "markdown",
   "id": "45febeca",
   "metadata": {},
   "source": [
    "Example of how we could represent the multiplication\n",
    "\n",
    "$$ 3 * 9 = 9 + 9 + 9 $$"
   ]
  },
  {
   "cell_type": "markdown",
   "id": "e169b69e",
   "metadata": {},
   "source": [
    "# Division"
   ]
  },
  {
   "cell_type": "markdown",
   "id": "b9566969",
   "metadata": {},
   "source": [
    "Zero divided by any nonzero number is always zero\n",
    "\n",
    "$$ 0:5=0 $$\n",
    "\n",
    "---\n",
    "\n",
    "We must not divide by 0\n",
    "\n",
    "$$ 3:0=\\text{undefined} $$\n",
    "\n",
    "---\n",
    "\n",
    "$$ 20:5=\\frac{20}{5} $$"
   ]
  },
  {
   "cell_type": "markdown",
   "id": "4840c8c0",
   "metadata": {},
   "source": [
    "## Examples"
   ]
  },
  {
   "cell_type": "markdown",
   "id": "d8609f9c",
   "metadata": {},
   "source": [
    "$$ -20:-5=4 $$"
   ]
  },
  {
   "cell_type": "markdown",
   "id": "f3688355",
   "metadata": {},
   "source": [
    "# Exponent"
   ]
  },
  {
   "cell_type": "markdown",
   "id": "ad772503",
   "metadata": {},
   "source": [
    "$$ 3*3*3*3*3*3*3*3*3=3^9 $$\n",
    "\n",
    "---\n",
    "\n",
    "Any number raised to the power of 1 is just itself\n",
    "\n",
    "$$ 9^1=9 $$\n",
    "\n",
    "---\n",
    "\n",
    "_Squared_ number - number to the power of 2\n",
    "\n",
    "$$ 3^2 $$\n",
    "\n",
    "---\n",
    "\n",
    "_Cubed_ number - number to the power of 3\n",
    "\n",
    "$$ 3^3 $$\n",
    "\n",
    "---\n",
    "\n",
    "If the minus sign is not in paranthesis, it is not included in the base, when multiplying the exponent.\n",
    "\n",
    "$$ -2^2=-4 $$\n",
    "\n",
    "$$ (-2)^2=4 $$"
   ]
  },
  {
   "cell_type": "markdown",
   "id": "4781dfc6",
   "metadata": {},
   "source": [
    "# Order of operations"
   ]
  },
  {
   "cell_type": "markdown",
   "id": "f88dba4c",
   "metadata": {},
   "source": [
    "1. Parenthesis\n",
    "2. Exponents\n",
    "3. Multiplication and Division\n",
    "4. Addition and Subtraction"
   ]
  },
  {
   "cell_type": "markdown",
   "id": "b8c60389",
   "metadata": {},
   "source": [
    "# Absolute value"
   ]
  },
  {
   "cell_type": "markdown",
   "id": "1be548c0",
   "metadata": {},
   "source": [
    "$$ \\left|-4\\right|=4 $$\n",
    "\n",
    "\n",
    "$$ \\left|4\\right|=4 $$"
   ]
  }
 ],
 "metadata": {
  "kernelspec": {
   "display_name": "Python 3 (ipykernel)",
   "language": "python",
   "name": "python3"
  },
  "language_info": {
   "codemirror_mode": {
    "name": "ipython",
    "version": 3
   },
   "file_extension": ".py",
   "mimetype": "text/x-python",
   "name": "python",
   "nbconvert_exporter": "python",
   "pygments_lexer": "ipython3",
   "version": "3.10.9"
  }
 },
 "nbformat": 4,
 "nbformat_minor": 5
}
