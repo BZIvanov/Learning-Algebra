{
 "cells": [
  {
   "cell_type": "markdown",
   "id": "4759011c",
   "metadata": {},
   "source": [
    "# Terminology\n",
    "\n",
    "- Addition\n",
    "  - Addend - in the expression $ 4 + 5 = 9 $, $ 4 $ and $ 5 $ are addends\n",
    "  - Sum - in the expression $ 4 + 5 = 9 $, $ 9 $ is the sum\n",
    "- Subtraction\n",
    "  - Minuend - in the expression $ 9 - 5 = 4 $, $ 9 $ is the minuend - the number from which another number is subtracted\n",
    "  - Subtrahend - in the expression $ 9 - 5 = 4 $, $ 5 $ is the subtrahend - the number being subtracted\n",
    "  - Difference - in the expression $ 9 - 5 = 4 $, $ 4 $ is the difference - the result of the subtraction\n",
    "- Multiplication\n",
    "  - Factor - in the expression $ 3 * 6 = 18 $, $ 3 $ and $ 6 $ are factors\n",
    "  - Product - in the expression $ 3 * 6 = 18 $, $ 18 $ is the product\n",
    "  - Base - in the expression $ x^n $, $ x $ is the base - the number being multiplied\n",
    "  - Exponent - in the expression $ x^n $, $ n $ is the exponent or power - the number of times the base is multiplied by itself\n",
    "- Division\n",
    "  - Dividend - in the expression $ 8 : 2 = 4 $, $ 8 $ is the dividend\n",
    "  - Divisor - in the expression $ 8 : 2 = 4 $, $ 2 $ is the divisor\n",
    "  - Quotient - in the expression $ 8 : 2 = 4 $, $ 4 $ is the quotient\n",
    "  - Numerator - in the expression $ \\frac{x}{y} $, $ x $ is the numerator - the number above the division bar\n",
    "  - Denominator - in the expression $ \\frac{x}{y} $, $ y $ is the denominator - the number below the division bar\n",
    "  - Proper fraction - a fraction where the numerator is smaller than the denominator, such as $ \\frac{2}{4} $, resulting in a value less than one\n",
    "  - Improper fraction - a fraction where the numerator is equal to or greater than the denominator, such as $ \\frac{4}{2} $, resulting in a value equal to or greater than one\n",
    "  - Reciprocal - for the fraction $ \\frac{2}{3} $ its reciprocal is $ \\frac{3}{2} $. Multiplying a number by its reciprocal equals 1\n",
    "- Mixed number - a number that combines a whole number and a fraction. For example $ 3{\\frac{2}{3}} $\n",
    "- Radical - a radical refers to the square root symbol used to indicate roots. For example $ \\sqrt{2} $ represents the square root of 2\n",
    "- Radicand - the number under the radical sign. For example $ \\sqrt{16} $ where $ 16 $ is the radicand"
   ]
  }
 ],
 "metadata": {
  "kernelspec": {
   "display_name": "Python [conda env:base] *",
   "language": "python",
   "name": "conda-base-py"
  },
  "language_info": {
   "codemirror_mode": {
    "name": "ipython",
    "version": 3
   },
   "file_extension": ".py",
   "mimetype": "text/x-python",
   "name": "python",
   "nbconvert_exporter": "python",
   "pygments_lexer": "ipython3",
   "version": "3.12.7"
  }
 },
 "nbformat": 4,
 "nbformat_minor": 5
}
