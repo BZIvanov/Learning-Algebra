{
 "cells": [
  {
   "cell_type": "markdown",
   "id": "dd8ca05e",
   "metadata": {},
   "source": [
    "# Algebra"
   ]
  },
  {
   "cell_type": "markdown",
   "id": "42f0d4d5",
   "metadata": {},
   "source": [
    "## Exponent Rules\n",
    "\n",
    "$$x^n$$\n",
    "\n",
    "- x - base\n",
    "- n - exponent/power\n",
    "\n",
    "##### Example\n",
    "\n",
    "$$2^3 = 2*2*2 = 8$$"
   ]
  },
  {
   "cell_type": "markdown",
   "id": "0269caa9",
   "metadata": {},
   "source": [
    "### The Product Rule\n",
    "\n",
    "The Product rule says, that if the base is the same for two expressions, we can add the exponent.\n",
    "\n",
    "$$x^n * x^m = x^{n+m}$$\n",
    "\n",
    "##### Example\n",
    "\n",
    "$$2^3 * 2^4 = 2^7$$\n",
    "$$2*2*2 * 2*2*2*2 = 2^7$$"
   ]
  },
  {
   "cell_type": "markdown",
   "id": "2cd249a5",
   "metadata": {},
   "source": [
    "### The Quotient Rule\n",
    "\n",
    "The Quotient rule says, that if we divide two expressions with the same base, we can subtract their exponents\n",
    "\n",
    "$$\\frac{x^n}{x^m} = x^{n-m}$$\n",
    "\n",
    "##### Example\n",
    "\n",
    "$$\\frac{2^6}{2^2} = 2^{6-2} = 2^4$$"
   ]
  },
  {
   "cell_type": "markdown",
   "id": "6b994903",
   "metadata": {},
   "source": [
    "### The Power Rule\n",
    "\n",
    "$$(x^n)^m = x^{n*m}$$\n",
    "\n",
    "##### Example\n",
    "\n",
    "$$(2^3)^4 = 2^{3*4} = 2^{12}$$"
   ]
  },
  {
   "cell_type": "markdown",
   "id": "11c89120",
   "metadata": {},
   "source": [
    "### Power of Zero\n",
    "\n",
    "Power of zero says, that a base with power of 0 equals 1\n",
    "\n",
    "$$x^0 = 1$$\n",
    "\n",
    "##### Example\n",
    "\n",
    "$$5^0 = 1$$"
   ]
  },
  {
   "cell_type": "markdown",
   "id": "af18cada",
   "metadata": {},
   "source": [
    "### Negative exponents\n",
    "\n",
    "$$x^{-n} = \\frac{1}{x^n}$$\n",
    "\n",
    "##### Example\n",
    "\n",
    "$$5^{-2} = \\frac{1}{5^2}$$"
   ]
  },
  {
   "cell_type": "markdown",
   "id": "953d39a9",
   "metadata": {},
   "source": [
    "### Fractional exponents\n",
    "\n",
    "$$x^{\\frac{1}{n}} = \\sqrt[n]{x}$$\n",
    "\n",
    "##### Example\n",
    "\n",
    "$$64^{\\frac{1}{3}} = \\sqrt[3]{64} = 4$$"
   ]
  }
 ],
 "metadata": {
  "kernelspec": {
   "display_name": "Python 3 (ipykernel)",
   "language": "python",
   "name": "python3"
  },
  "language_info": {
   "codemirror_mode": {
    "name": "ipython",
    "version": 3
   },
   "file_extension": ".py",
   "mimetype": "text/x-python",
   "name": "python",
   "nbconvert_exporter": "python",
   "pygments_lexer": "ipython3",
   "version": "3.10.9"
  }
 },
 "nbformat": 4,
 "nbformat_minor": 5
}
