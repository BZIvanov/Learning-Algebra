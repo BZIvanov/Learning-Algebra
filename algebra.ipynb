{
 "cells": [
  {
   "cell_type": "markdown",
   "id": "dd8ca05e",
   "metadata": {},
   "source": [
    "# Algebra"
   ]
  },
  {
   "cell_type": "markdown",
   "id": "4759011c",
   "metadata": {},
   "source": [
    "## Terminology\n",
    "\n",
    "- **Base** and **Exponent**\n",
    "\n",
    "$$x^n$$\n",
    "\n",
    "    - x - base\n",
    "    - n - exponent/power\n",
    "    \n",
    "- **Numerator** and **Denominator**\n",
    "\n",
    "$$\\frac{x}{y}$$\n",
    "\n",
    "    - x - numerator, written above the division bar in the rational expression\n",
    "    - y - denominator, written below the division bar in the rational expression\n",
    " \n",
    "- **Radical**\n",
    "\n",
    "$$\\sqrt{2}$$\n",
    "\n",
    "    - radical refers to the sqrt symbol, also known as radical symbol"
   ]
  },
  {
   "cell_type": "markdown",
   "id": "42f0d4d5",
   "metadata": {},
   "source": [
    "## Exponent Rules"
   ]
  },
  {
   "cell_type": "markdown",
   "id": "0269caa9",
   "metadata": {},
   "source": [
    "### The Product Rule\n",
    "\n",
    "The Product rule says, that if the base is the same for two expressions, we can add the exponent.\n",
    "\n",
    "$$x^n * x^m = x^{n+m}$$\n",
    "\n",
    "##### Example\n",
    "\n",
    "$$2^3 * 2^4 = 2^7$$\n",
    "$$2*2*2 * 2*2*2*2 = 2^7$$"
   ]
  },
  {
   "cell_type": "markdown",
   "id": "2cd249a5",
   "metadata": {},
   "source": [
    "### The Quotient Rule\n",
    "\n",
    "The Quotient rule says, that if we divide two expressions with the same base, we can subtract their exponents\n",
    "\n",
    "$$\\frac{x^n}{x^m} = x^{n-m}$$\n",
    "\n",
    "##### Example\n",
    "\n",
    "$$\\frac{2^6}{2^2} = 2^{6-2} = 2^4$$"
   ]
  },
  {
   "cell_type": "markdown",
   "id": "6b994903",
   "metadata": {},
   "source": [
    "### The Power Rule\n",
    "\n",
    "$$(x^n)^m = x^{n*m}$$\n",
    "\n",
    "##### Example\n",
    "\n",
    "$$(2^3)^4 = 2^{3*4} = 2^{12}$$"
   ]
  },
  {
   "cell_type": "markdown",
   "id": "11c89120",
   "metadata": {},
   "source": [
    "### Power of Zero\n",
    "\n",
    "Power of zero says, that a base with power of 0 equals 1\n",
    "\n",
    "$$x^0 = 1$$\n",
    "\n",
    "##### Example\n",
    "\n",
    "$$5^0 = 1$$"
   ]
  },
  {
   "cell_type": "markdown",
   "id": "af18cada",
   "metadata": {},
   "source": [
    "### Negative exponents\n",
    "\n",
    "$$x^{-n} = \\frac{1}{x^n}$$\n",
    "\n",
    "##### Example\n",
    "\n",
    "$$5^{-2} = \\frac{1}{5^2}$$"
   ]
  },
  {
   "cell_type": "markdown",
   "id": "953d39a9",
   "metadata": {},
   "source": [
    "### Fractional exponents\n",
    "\n",
    "$$x^{\\frac{1}{n}} = \\sqrt[n]{x}$$\n",
    "\n",
    "##### Example\n",
    "\n",
    "$$64^{\\frac{1}{3}} = \\sqrt[3]{64} = 4$$"
   ]
  },
  {
   "cell_type": "markdown",
   "id": "cf37bf8f",
   "metadata": {},
   "source": [
    "### Distribute an Exponent over a Product\n",
    "\n",
    "$$(x*y)^n = x^n * y^n$$\n",
    "\n",
    "##### Example\n",
    "\n",
    "$$(5*7)^3 = 5^3 * 7^3 = (5*7)*(5*7)*(5*7) = 5*5*5*7*7*7$$"
   ]
  },
  {
   "cell_type": "markdown",
   "id": "4ea6428d",
   "metadata": {},
   "source": [
    "### Distribute an Exponent over a Quotient\n",
    "\n",
    "$$\\left(\\frac{x}{y}\\right)^n = \\frac{x^n}{y^n}$$\n",
    "\n",
    "##### Example\n",
    "\n",
    "$$\\left(\\frac{2}{7}\\right)^5 = \\frac{2^5}{7^5}$$"
   ]
  },
  {
   "cell_type": "markdown",
   "id": "1f9ee820",
   "metadata": {},
   "source": [
    "### Examples of how to simplify expressions without negative exponents using the above rules\n",
    "\n",
    "- example 1.1\n",
    "\n",
    "$$\\frac{3*x^{-2}}{x^4} = \\frac{3*\\frac{1}{x^2}}{x^4} = \\frac{\\frac{3}{1}*\\frac{1}{x^2}}{x^4} = \\frac{\\frac{3*1}{1*x^2}}{x^4} = $$\n",
    "\n",
    "$$\\frac{\\frac{3}{x^2}}{x^4} = \\frac{\\frac{3}{x^2}}{\\frac{x*4}{1}} = \\frac{3}{x^2} * \\frac{1}{x^4} = \\frac{3*1}{x^2*x^4} = \\frac{3}{x^6}$$\n",
    "\n",
    "- example 1.2\n",
    "\n",
    "$$\\frac{3*x^{-2}}{x^4} = 3*\\frac{x^{-2}}{x^4} = 3*x^{-2-4} = 3*x^{-6} = 3*\\frac{1}{x^6} = \\frac{3}{x^6}$$\n",
    "\n",
    "- example 1.3\n",
    "\n",
    "$$\\frac{3*x^{-2}}{x^4} = \\frac{3}{x^4x^2} = \\frac{3}{x^6}$$\n",
    "\n",
    "- example 2.1\n",
    "\n",
    "$$\\frac{4y^3}{y^{-5}} = \\frac{4y^3}{\\frac{1}{y^5}} = \\frac{\\frac{4y^3}{1}}{\\frac{1}{y^5}} = \\frac{4y^3}{1}*\\frac{y^5}{1} = \\frac{4y^3y^5}{1} = \\frac{4y^8}{1} = 4y^8$$\n",
    "\n",
    "- example 2.2\n",
    "\n",
    "$$\\frac{4y^3}{y^{-5}} = 4y^{3-(-5)} = 4y^8$$\n",
    "\n",
    "- example 2.3\n",
    "\n",
    "$$\\frac{4y^3}{y^{-5}} = 4y^3y^5 = 4y^8$$\n",
    "\n",
    "- example 3\n",
    "\n",
    "$$\\frac{y^3z^5}{7z^{-2}y^7} = \\frac{z^5}{7z^{-2}y^7y^{-3}} = \\frac{z^5z^2}{7y^7y^{-3}} = \\frac{z^7}{7y^4}$$\n",
    "\n",
    "- example 4\n",
    "\n",
    "$$\\sqrt[n]{a*b} = \\sqrt[n]{a} * \\sqrt[n]{b}$$\n",
    "\n",
    "- example 5\n",
    "\n",
    "$$\\sqrt[n]{\\frac{a}{b}} = \\frac{\\sqrt[n]{a}}{\\sqrt[n]{b}}$$\n",
    "\n",
    "- example 6\n",
    "\n",
    "$$a^{m/n} = \\sqrt[n]{a^m} = \\left(\\sqrt[n]{a}\\right)^m$$\n",
    "\n",
    "- example 7\n",
    "\n",
    "$$\\frac{3x}{\\sqrt{x}} = \\frac{3x}{\\sqrt{x}}*\\frac{\\sqrt{x}}{\\sqrt{x}} = \\frac{3x\\sqrt{x}}{\\left(\\sqrt{x}\\right)^2} = \\frac{3x\\sqrt{x}}{x} = 3\\sqrt{x}$$"
   ]
  },
  {
   "cell_type": "markdown",
   "id": "e9e575e7",
   "metadata": {},
   "source": [
    "## Factoring\n",
    "\n",
    "Factoring is the process of rewriting an expression as a product of simpler expressions. It's like taking something apart to find the building blocks that multiply together to make the whole thing."
   ]
  },
  {
   "cell_type": "markdown",
   "id": "4be1edf1",
   "metadata": {},
   "source": [
    "### Greatest common factor\n",
    "\n",
    "- example 1\n",
    "\n",
    "$$15+25x = 5(3+5x)$$\n",
    "\n",
    "- example 2\n",
    "\n",
    "$$x^2y+y^2x^3 = x^2y(1+xy)$$\n",
    "\n",
    "- example 3\n",
    "\n",
    "$$x^2+x = x(x+1)$$"
   ]
  },
  {
   "cell_type": "markdown",
   "id": "ae366a07",
   "metadata": {},
   "source": [
    "### Factor by Grouping\n",
    "\n",
    "- example 1\n",
    "\n",
    "$$x^3+3x^2+4x+12 = x^2(x+3)+4(x+3) = (x^2+4)(x+3)$$"
   ]
  },
  {
   "cell_type": "markdown",
   "id": "c097c814",
   "metadata": {},
   "source": [
    "### Factor Quadratics\n",
    "\n",
    "- example 1\n",
    "\n",
    "$$x^2-6x+8 = (x-2)(x-4)$$\n",
    "\n",
    "- example 2\n",
    "\n",
    "$$10x^2+11x-6 = 10x^2-4x+15x-6 = 2x(5x-2)+3(5x-2) = (2x+3)(5x-2)$$\n",
    "\n",
    "- example 3\n",
    "\n",
    "$$-5x^2-45x+50 = -5(x^2+9x-10) = -5(x+10)(x-1)$$"
   ]
  },
  {
   "cell_type": "markdown",
   "id": "94e6a5ff",
   "metadata": {},
   "source": [
    "### Difference of squares\n",
    "\n",
    "Formula:\n",
    "\n",
    "$$a^2-b^2 = (a+b)(a-b)$$\n",
    "\n",
    "- example 1\n",
    "\n",
    "$$x^2-16 = x^2-4^2 = (x+4)(x-4)$$\n",
    "\n",
    "- example 2\n",
    "\n",
    "$$9p^2-1 = (3p)^2-1^2 = (3p+1)(3p-1)$$\n",
    "\n",
    "- example 3\n",
    "\n",
    "$$x^2-25 = x^2-(5)^2 = (x+5)(x-5)$$"
   ]
  },
  {
   "cell_type": "markdown",
   "id": "2d6c4fc4",
   "metadata": {},
   "source": [
    "### Difference or sum of cubes\n",
    "\n",
    "Formula:\n",
    "\n",
    "$$a^3-b^3 = (a-b)(a^2+ab+b^2)$$\n",
    "\n",
    "$$a^3+b^3 = (a+b)(a^2-ab+b^2)$$\n",
    "\n",
    "- example 1\n",
    "\n",
    "$$y^3+27 = y^3+3^3 = (y+3)(y^2-y*3+3^2) = (y+3)(y^2-3y+9)$$"
   ]
  }
 ],
 "metadata": {
  "kernelspec": {
   "display_name": "Python 3 (ipykernel)",
   "language": "python",
   "name": "python3"
  },
  "language_info": {
   "codemirror_mode": {
    "name": "ipython",
    "version": 3
   },
   "file_extension": ".py",
   "mimetype": "text/x-python",
   "name": "python",
   "nbconvert_exporter": "python",
   "pygments_lexer": "ipython3",
   "version": "3.10.9"
  }
 },
 "nbformat": 4,
 "nbformat_minor": 5
}
