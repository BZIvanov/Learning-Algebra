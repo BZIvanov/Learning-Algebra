{
 "cells": [
  {
   "cell_type": "markdown",
   "id": "dd8ca05e",
   "metadata": {},
   "source": [
    "# Algebra"
   ]
  },
  {
   "cell_type": "markdown",
   "id": "4759011c",
   "metadata": {},
   "source": [
    "## Terminology\n",
    "\n",
    "- **Base** and **Exponent**\n",
    "\n",
    "$$x^n$$\n",
    "\n",
    "    - x - base\n",
    "    - n - exponent/power\n",
    "    \n",
    "- **Numerator** and **Denominator**\n",
    "\n",
    "$$\\frac{x}{y}$$\n",
    "\n",
    "    - x - numerator, written above the division bar in the rational expression\n",
    "    - y - denominator, written below the division bar in the rational expression\n",
    " \n",
    "- **Radical**\n",
    "\n",
    "$$\\sqrt{2}$$\n",
    "\n",
    "    - radical refers to the sqrt symbol, also known as radical symbol"
   ]
  },
  {
   "cell_type": "markdown",
   "id": "42f0d4d5",
   "metadata": {},
   "source": [
    "## Exponent Rules"
   ]
  },
  {
   "cell_type": "markdown",
   "id": "0269caa9",
   "metadata": {},
   "source": [
    "### The Product Rule\n",
    "\n",
    "The Product rule says, that if the base is the same for two expressions, we can add the exponent.\n",
    "\n",
    "$$x^n * x^m = x^{n+m}$$\n",
    "\n",
    "##### Example\n",
    "\n",
    "$$2^3 * 2^4 = 2^7$$\n",
    "$$2*2*2 * 2*2*2*2 = 2^7$$"
   ]
  },
  {
   "cell_type": "markdown",
   "id": "2cd249a5",
   "metadata": {},
   "source": [
    "### The Quotient Rule\n",
    "\n",
    "The Quotient rule says, that if we divide two expressions with the same base, we can subtract their exponents\n",
    "\n",
    "$$\\frac{x^n}{x^m} = x^{n-m}$$\n",
    "\n",
    "##### Example\n",
    "\n",
    "$$\\frac{2^6}{2^2} = 2^{6-2} = 2^4$$"
   ]
  },
  {
   "cell_type": "markdown",
   "id": "6b994903",
   "metadata": {},
   "source": [
    "### The Power Rule\n",
    "\n",
    "$$(x^n)^m = x^{n*m}$$\n",
    "\n",
    "##### Example\n",
    "\n",
    "$$(2^3)^4 = 2^{3*4} = 2^{12}$$"
   ]
  },
  {
   "cell_type": "markdown",
   "id": "11c89120",
   "metadata": {},
   "source": [
    "### Power of Zero\n",
    "\n",
    "Power of zero says, that a base with power of 0 equals 1\n",
    "\n",
    "$$x^0 = 1$$\n",
    "\n",
    "##### Example\n",
    "\n",
    "$$5^0 = 1$$"
   ]
  },
  {
   "cell_type": "markdown",
   "id": "af18cada",
   "metadata": {},
   "source": [
    "### Negative exponents\n",
    "\n",
    "$$x^{-n} = \\frac{1}{x^n}$$\n",
    "\n",
    "##### Example\n",
    "\n",
    "$$5^{-2} = \\frac{1}{5^2}$$"
   ]
  },
  {
   "cell_type": "markdown",
   "id": "953d39a9",
   "metadata": {},
   "source": [
    "### Fractional exponents\n",
    "\n",
    "$$x^{\\frac{1}{n}} = \\sqrt[n]{x}$$\n",
    "\n",
    "##### Example\n",
    "\n",
    "$$64^{\\frac{1}{3}} = \\sqrt[3]{64} = 4$$"
   ]
  },
  {
   "cell_type": "markdown",
   "id": "cf37bf8f",
   "metadata": {},
   "source": [
    "### Distribute an Exponent over a Product\n",
    "\n",
    "$$(x*y)^n = x^n * y^n$$\n",
    "\n",
    "##### Example\n",
    "\n",
    "$$(5*7)^3 = 5^3 * 7^3 = (5*7)*(5*7)*(5*7) = 5*5*5*7*7*7$$"
   ]
  },
  {
   "cell_type": "markdown",
   "id": "4ea6428d",
   "metadata": {},
   "source": [
    "### Distribute an Exponent over a Quotient\n",
    "\n",
    "$$\\left(\\frac{x}{y}\\right)^n = \\frac{x^n}{y^n}$$\n",
    "\n",
    "##### Example\n",
    "\n",
    "$$\\left(\\frac{2}{7}\\right)^5 = \\frac{2^5}{7^5}$$"
   ]
  },
  {
   "cell_type": "markdown",
   "id": "1f9ee820",
   "metadata": {},
   "source": [
    "### Examples of how to simplify expressions without negative exponents using the above rules\n",
    "\n",
    "- example 1.1\n",
    "\n",
    "$$\\frac{3*x^{-2}}{x^4} = \\frac{3*\\frac{1}{x^2}}{x^4} = \\frac{\\frac{3}{1}*\\frac{1}{x^2}}{x^4} = \\frac{\\frac{3*1}{1*x^2}}{x^4} = $$\n",
    "\n",
    "$$\\frac{\\frac{3}{x^2}}{x^4} = \\frac{\\frac{3}{x^2}}{\\frac{x*4}{1}} = \\frac{3}{x^2} * \\frac{1}{x^4} = \\frac{3*1}{x^2*x^4} = \\frac{3}{x^6}$$\n",
    "\n",
    "- example 1.2\n",
    "\n",
    "$$\\frac{3*x^{-2}}{x^4} = 3*\\frac{x^{-2}}{x^4} = 3*x^{-2-4} = 3*x^{-6} = 3*\\frac{1}{x^6} = \\frac{3}{x^6}$$\n",
    "\n",
    "- example 1.3\n",
    "\n",
    "$$\\frac{3*x^{-2}}{x^4} = \\frac{3}{x^4x^2} = \\frac{3}{x^6}$$\n",
    "\n",
    "- example 2.1\n",
    "\n",
    "$$\\frac{4y^3}{y^{-5}} = \\frac{4y^3}{\\frac{1}{y^5}} = \\frac{\\frac{4y^3}{1}}{\\frac{1}{y^5}} = \\frac{4y^3}{1}*\\frac{y^5}{1} = \\frac{4y^3y^5}{1} = \\frac{4y^8}{1} = 4y^8$$\n",
    "\n",
    "- example 2.2\n",
    "\n",
    "$$\\frac{4y^3}{y^{-5}} = 4y^{3-(-5)} = 4y^8$$\n",
    "\n",
    "- example 2.3\n",
    "\n",
    "$$\\frac{4y^3}{y^{-5}} = 4y^3y^5 = 4y^8$$\n",
    "\n",
    "- example 3\n",
    "\n",
    "$$\\frac{y^3z^5}{7z^{-2}y^7} = \\frac{z^5}{7z^{-2}y^7y^{-3}} = \\frac{z^5z^2}{7y^7y^{-3}} = \\frac{z^7}{7y^4}$$\n",
    "\n",
    "- example 4\n",
    "\n",
    "$$\\sqrt[n]{a*b} = \\sqrt[n]{a} * \\sqrt[n]{b}$$\n",
    "\n",
    "- example 5\n",
    "\n",
    "$$\\sqrt[n]{\\frac{a}{b}} = \\frac{\\sqrt[n]{a}}{\\sqrt[n]{b}}$$"
   ]
  }
 ],
 "metadata": {
  "kernelspec": {
   "display_name": "Python 3 (ipykernel)",
   "language": "python",
   "name": "python3"
  },
  "language_info": {
   "codemirror_mode": {
    "name": "ipython",
    "version": 3
   },
   "file_extension": ".py",
   "mimetype": "text/x-python",
   "name": "python",
   "nbconvert_exporter": "python",
   "pygments_lexer": "ipython3",
   "version": "3.10.9"
  }
 },
 "nbformat": 4,
 "nbformat_minor": 5
}
